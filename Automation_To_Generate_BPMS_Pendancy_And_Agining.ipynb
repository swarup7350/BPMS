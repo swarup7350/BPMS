{
  "nbformat": 4,
  "nbformat_minor": 0,
  "metadata": {
    "colab": {
      "name": "Automation To Generate BPMS Pendancy And Agining.ipynb",
      "provenance": [],
      "collapsed_sections": [],
      "toc_visible": true,
      "authorship_tag": "ABX9TyO9eJPJK6LyCHMPQhc9XHD+",
      "include_colab_link": true
    },
    "kernelspec": {
      "name": "python3",
      "display_name": "Python 3"
    }
  },
  "cells": [
    {
      "cell_type": "markdown",
      "metadata": {
        "id": "view-in-github",
        "colab_type": "text"
      },
      "source": [
        "<a href=\"https://colab.research.google.com/github/swarup7350/BPMS/blob/master/Automation_To_Generate_BPMS_Pendancy_And_Agining.ipynb\" target=\"_parent\"><img src=\"https://colab.research.google.com/assets/colab-badge.svg\" alt=\"Open In Colab\"/></a>"
      ]
    },
    {
      "cell_type": "markdown",
      "metadata": {
        "id": "6eU6m1sWwOJO",
        "colab_type": "text"
      },
      "source": [
        "#**Library Import & Google Drive Authentication**"
      ]
    },
    {
      "cell_type": "code",
      "metadata": {
        "id": "lumsI-yovW_n",
        "colab_type": "code",
        "colab": {
          "base_uri": "https://localhost:8080/",
          "height": 71
        },
        "outputId": "830cb441-0d00-48d8-f388-1e06cfdf14b3"
      },
      "source": [
        "import sys\n",
        "import pandas as pd\n",
        "import seaborn as sns\n",
        "import numpy as np\n",
        "import matplotlib.pyplot as plt\n",
        "from matplotlib.pyplot import pie, axis, show\n",
        "%matplotlib inline                                                              \n",
        "\n",
        "import warnings\n",
        "warnings.filterwarnings('ignore') \n",
        "pd.set_option('display.max_columns', 100)\n",
        "\n",
        "!pip install -U -q PyDrive\n",
        "from pydrive.auth import GoogleAuth\n",
        "from pydrive.drive import GoogleDrive\n",
        "from google.colab import auth\n",
        "from oauth2client.client import GoogleCredentials\n",
        "\n",
        "from google.colab import files\n",
        "\n",
        "auth.authenticate_user()\n",
        "gauth = GoogleAuth()\n",
        "gauth.credentials = GoogleCredentials.get_application_default()\n",
        "drive = GoogleDrive(gauth)"
      ],
      "execution_count": 2,
      "outputs": [
        {
          "output_type": "stream",
          "text": [
            "/usr/local/lib/python3.6/dist-packages/statsmodels/tools/_testing.py:19: FutureWarning: pandas.util.testing is deprecated. Use the functions in the public API at pandas.testing instead.\n",
            "  import pandas.util.testing as tm\n"
          ],
          "name": "stderr"
        }
      ]
    },
    {
      "cell_type": "code",
      "metadata": {
        "id": "p7BC31_LUVyf",
        "colab_type": "code",
        "colab": {}
      },
      "source": [
        "#import pandas as pd\n",
        "#pd.set_option('display.max_rows', 10000)\n",
        "#pd.set_option('display.max_columns', 50)"
      ],
      "execution_count": null,
      "outputs": []
    },
    {
      "cell_type": "markdown",
      "metadata": {
        "id": "zGFiVMOTzhIu",
        "colab_type": "text"
      },
      "source": [
        "#**Uplode All Files Required & Adding more columns**"
      ]
    },
    {
      "cell_type": "markdown",
      "metadata": {
        "id": "7dVRWgfmzksx",
        "colab_type": "text"
      },
      "source": [
        "##**Uploading ULB Type Master**"
      ]
    },
    {
      "cell_type": "code",
      "metadata": {
        "id": "QqDEhy6Jwklg",
        "colab_type": "code",
        "colab": {
          "base_uri": "https://localhost:8080/",
          "height": 238
        },
        "outputId": "cb7ac839-fe71-4838-c8de-b5568032955c"
      },
      "source": [
        "#Uploading ULB Type Master (1st File)File\n",
        "#https://drive.google.com/file/d/1-cGPgldLiko-oRp0HFQV4kJ6pVf3aZDr/view?usp=sharing\n",
        "downloaded = drive.CreateFile({'id':'1-cGPgldLiko-oRp0HFQV4kJ6pVf3aZDr'})\n",
        "downloaded.GetContentFile('ULBTypeMaster.csv')\n",
        "ulbm = pd.read_csv('ULBTypeMaster.csv')\n",
        "ulbm.info()"
      ],
      "execution_count": 4,
      "outputs": [
        {
          "output_type": "stream",
          "text": [
            "<class 'pandas.core.frame.DataFrame'>\n",
            "RangeIndex: 241 entries, 0 to 240\n",
            "Data columns (total 6 columns):\n",
            " #   Column     Non-Null Count  Dtype \n",
            "---  ------     --------------  ----- \n",
            " 0   Sr No      241 non-null    int64 \n",
            " 1   Region     241 non-null    object\n",
            " 2   District   241 non-null    object\n",
            " 3   ULB Name   241 non-null    object\n",
            " 4   ULB Type   241 non-null    object\n",
            " 5   Live ULB   241 non-null    object\n",
            "dtypes: int64(1), object(5)\n",
            "memory usage: 11.4+ KB\n"
          ],
          "name": "stdout"
        }
      ]
    },
    {
      "cell_type": "markdown",
      "metadata": {
        "id": "8y_3pfyT8aMN",
        "colab_type": "text"
      },
      "source": [
        "##**Uploading Pendecy Report of Pending from ULB Authority ( All Service )**"
      ]
    },
    {
      "cell_type": "code",
      "metadata": {
        "id": "0PRTp1oY8C26",
        "colab_type": "code",
        "colab": {
          "base_uri": "https://localhost:8080/",
          "height": 442
        },
        "outputId": "c7aac520-01b5-4232-b84c-743b2575c3d5"
      },
      "source": [
        "#Uploading PendecyReportULB (2nd File)File\n",
        "#https://drive.google.com/file/d/1S58HwTU24qRu7ex-fJy-x6ZyMw1o16O9/view?usp=sharing\n",
        "downloaded = drive.CreateFile({'id':'1S58HwTU24qRu7ex-fJy-x6ZyMw1o16O9'})\n",
        "downloaded.GetContentFile('PendecyReport(PendingFromULB).csv')\n",
        "ulbpending = pd.read_csv('PendecyReport(PendingFromULB).csv')\n",
        "ulbpending.info()"
      ],
      "execution_count": 5,
      "outputs": [
        {
          "output_type": "stream",
          "text": [
            "<class 'pandas.core.frame.DataFrame'>\n",
            "RangeIndex: 6323 entries, 0 to 6322\n",
            "Data columns (total 18 columns):\n",
            " #   Column                     Non-Null Count  Dtype \n",
            "---  ------                     --------------  ----- \n",
            " 0   Sr No.                     6323 non-null   int64 \n",
            " 1   Region                     6323 non-null   object\n",
            " 2   District                   6323 non-null   object\n",
            " 3   ULB Name                   6323 non-null   object\n",
            " 4   Proposal Code              6323 non-null   object\n",
            " 5   Risk Base                  6323 non-null   object\n",
            " 6   Government Scheme          142 non-null    object\n",
            " 7   Service Name               6323 non-null   object\n",
            " 8   Owner Name                 6323 non-null   object\n",
            " 9   Site Address               4808 non-null   object\n",
            " 10  Technical Person Name      6320 non-null   object\n",
            " 11  Technical Person Category  6320 non-null   object\n",
            " 12  Pending By                 6318 non-null   object\n",
            " 13  Designation                6318 non-null   object\n",
            " 14  Application Received Date  6323 non-null   object\n",
            " 15  Days                       6323 non-null   int64 \n",
            " 16  Days-1                     6323 non-null   object\n",
            " 17  Reasons                    6323 non-null   object\n",
            "dtypes: int64(2), object(16)\n",
            "memory usage: 889.3+ KB\n"
          ],
          "name": "stdout"
        }
      ]
    },
    {
      "cell_type": "markdown",
      "metadata": {
        "id": "UecMYrHv837p",
        "colab_type": "text"
      },
      "source": [
        "##**Uploading Pendecy Report of Pending from Technical Persons ( All Service )**"
      ]
    },
    {
      "cell_type": "code",
      "metadata": {
        "id": "w_zQNrCF8v5w",
        "colab_type": "code",
        "colab": {
          "base_uri": "https://localhost:8080/",
          "height": 408
        },
        "outputId": "892d7fbb-c80e-4848-c3e4-84fcb15a724b"
      },
      "source": [
        "#Uploading PendecyReportArchitect (3nd File)File\n",
        "#https://drive.google.com/file/d/1EzODMypzr4LPhwSyJ2SrfeRaXWq-ueKU/view?usp=sharing\n",
        "downloaded = drive.CreateFile({'id':'1EzODMypzr4LPhwSyJ2SrfeRaXWq-ueKU'})\n",
        "downloaded.GetContentFile('PendecyReport(PendingFromArchitect).csv')\n",
        "architectpending = pd.read_csv('PendecyReport(PendingFromArchitect).csv')\n",
        "architectpending.info()"
      ],
      "execution_count": 6,
      "outputs": [
        {
          "output_type": "stream",
          "text": [
            "<class 'pandas.core.frame.DataFrame'>\n",
            "RangeIndex: 8707 entries, 0 to 8706\n",
            "Data columns (total 16 columns):\n",
            " #   Column                     Non-Null Count  Dtype \n",
            "---  ------                     --------------  ----- \n",
            " 0   Sr No.                     8707 non-null   int64 \n",
            " 1   Region                     8707 non-null   object\n",
            " 2   District                   8707 non-null   object\n",
            " 3   ULB Name                   8707 non-null   object\n",
            " 4   Proposal Code              8707 non-null   object\n",
            " 5   Risk Base                  8707 non-null   object\n",
            " 6   Government Scheme          132 non-null    object\n",
            " 7   Service Name               8707 non-null   object\n",
            " 8   Owner Name                 8707 non-null   object\n",
            " 9   Site Address               8110 non-null   object\n",
            " 10  Technical Person Name      8703 non-null   object\n",
            " 11  Technical Person Category  8702 non-null   object\n",
            " 12  Application Received Date  8707 non-null   object\n",
            " 13  Days                       8707 non-null   int64 \n",
            " 14  Days-1                     8707 non-null   object\n",
            " 15  Reasons                    8707 non-null   object\n",
            "dtypes: int64(2), object(14)\n",
            "memory usage: 1.1+ MB\n"
          ],
          "name": "stdout"
        }
      ]
    },
    {
      "cell_type": "markdown",
      "metadata": {
        "id": "KXwdp6oU9X5v",
        "colab_type": "text"
      },
      "source": [
        "##**Uploading Technical license registration request Pending from ULB Authority ( Single Service )**"
      ]
    },
    {
      "cell_type": "code",
      "metadata": {
        "id": "PyrG95I49RiR",
        "colab_type": "code",
        "colab": {
          "base_uri": "https://localhost:8080/",
          "height": 340
        },
        "outputId": "a409f05c-7cc6-438c-82a5-bafb088b5dd8"
      },
      "source": [
        "#Uploading Technical license registration request pending From ULB\n",
        "#https://drive.google.com/file/d/16pG90vEiqTKuEFs4VDD4x27a8Go2gA_w/view?usp=sharing\n",
        "downloaded = drive.CreateFile({'id':'16pG90vEiqTKuEFs4VDD4x27a8Go2gA_w'})\n",
        "downloaded.GetContentFile('TechnicalLicenseRegistrationRequestPendingFromULB.csv')\n",
        "techulbpending = pd.read_csv('TechnicalLicenseRegistrationRequestPendingFromULB.csv')\n",
        "techulbpending.info()"
      ],
      "execution_count": 7,
      "outputs": [
        {
          "output_type": "stream",
          "text": [
            "<class 'pandas.core.frame.DataFrame'>\n",
            "RangeIndex: 3386 entries, 0 to 3385\n",
            "Data columns (total 12 columns):\n",
            " #   Column                     Non-Null Count  Dtype \n",
            "---  ------                     --------------  ----- \n",
            " 0   Sr No                      3386 non-null   int64 \n",
            " 1   Region                     3386 non-null   object\n",
            " 2   District                   3386 non-null   object\n",
            " 3   ULB Name                   3386 non-null   object\n",
            " 4   Technical Person Name      3386 non-null   object\n",
            " 5   Technical Person Category  3381 non-null   object\n",
            " 6   Pending From Name          3384 non-null   object\n",
            " 7   Designation                3384 non-null   object\n",
            " 8   Registration Date          3386 non-null   object\n",
            " 9   Days                       3386 non-null   int64 \n",
            " 10  Days-1                     3386 non-null   object\n",
            " 11  Reason                     3386 non-null   object\n",
            "dtypes: int64(2), object(10)\n",
            "memory usage: 317.6+ KB\n"
          ],
          "name": "stdout"
        }
      ]
    },
    {
      "cell_type": "markdown",
      "metadata": {
        "id": "B0PKiOleIWCq",
        "colab_type": "text"
      },
      "source": [
        "##**Uploading Technical license registration request Pending from Technical Persons ( Single Service )**"
      ]
    },
    {
      "cell_type": "code",
      "metadata": {
        "id": "-fwK4PwmHYhP",
        "colab_type": "code",
        "colab": {
          "base_uri": "https://localhost:8080/",
          "height": 306
        },
        "outputId": "774c6b78-fcc3-4e8e-d082-f327bdeb4a74"
      },
      "source": [
        "#Uploading TechnicallicenseregistrationrequestpendingFromArchitect (5th File)File\n",
        "#https://drive.google.com/file/d/1rVStc6ymJ36WymxIdb6UGE3XREmKw1Gr/view?usp=sharing\n",
        "downloaded = drive.CreateFile({'id':'1rVStc6ymJ36WymxIdb6UGE3XREmKw1Gr'})\n",
        "downloaded.GetContentFile('TechnicalLicenseRegistrationRequestPendingFromArchitect.csv')\n",
        "techarchitectpending = pd.read_csv('TechnicalLicenseRegistrationRequestPendingFromArchitect.csv')\n",
        "techarchitectpending.info()"
      ],
      "execution_count": 8,
      "outputs": [
        {
          "output_type": "stream",
          "text": [
            "<class 'pandas.core.frame.DataFrame'>\n",
            "RangeIndex: 1668 entries, 0 to 1667\n",
            "Data columns (total 10 columns):\n",
            " #   Column                     Non-Null Count  Dtype \n",
            "---  ------                     --------------  ----- \n",
            " 0   Sr No                      1668 non-null   int64 \n",
            " 1   Region                     1668 non-null   object\n",
            " 2   District                   1668 non-null   object\n",
            " 3   ULB Name                   1668 non-null   object\n",
            " 4   Technical Person Name      1668 non-null   object\n",
            " 5   Technical Person Category  1665 non-null   object\n",
            " 6   Registration Date          1668 non-null   object\n",
            " 7   Days                       1668 non-null   int64 \n",
            " 8   Days-1                     1668 non-null   object\n",
            " 9   Reason                     1668 non-null   object\n",
            "dtypes: int64(2), object(8)\n",
            "memory usage: 130.4+ KB\n"
          ],
          "name": "stdout"
        }
      ]
    },
    {
      "cell_type": "markdown",
      "metadata": {
        "id": "m70Tvps7IHyZ",
        "colab_type": "text"
      },
      "source": [
        "#**Making Changes In Uploaded Files for Mearging purpose**"
      ]
    },
    {
      "cell_type": "markdown",
      "metadata": {
        "id": "MRx5kh_WHI20",
        "colab_type": "text"
      },
      "source": [
        "##**Adding 2 new column in \"Technical license registration request Pending from ULB Authority\" and \"Technical license registration request Pending from Technical Persons\"(Service_Name & Proposal Code)**"
      ]
    },
    {
      "cell_type": "markdown",
      "metadata": {
        "id": "FS23KN8zJTVy",
        "colab_type": "text"
      },
      "source": [
        "###**1) Adding 2 new column in \"Technical license registration request Pending from ULB Authority\"(Service_Name & Proposal Code)**"
      ]
    },
    {
      "cell_type": "code",
      "metadata": {
        "id": "KBDU14Hw95p2",
        "colab_type": "code",
        "colab": {}
      },
      "source": [
        "#Adding New Column Service_Name\n",
        "techulbpending1=techulbpending.assign(Service_Name='Technical License Registration')[['Service_Name'] + techulbpending.columns.tolist()]"
      ],
      "execution_count": 9,
      "outputs": []
    },
    {
      "cell_type": "code",
      "metadata": {
        "id": "BfzZqTqAHSih",
        "colab_type": "code",
        "colab": {
          "base_uri": "https://localhost:8080/",
          "height": 374
        },
        "outputId": "530b5a88-34ad-4bc3-81f1-da6877c79f27"
      },
      "source": [
        "#Adding onemore new column Proposal_Code\n",
        "techulbpending2=techulbpending1.assign(Proposal_Code= np.arange(len(techulbpending1)))[['Proposal_Code'] + techulbpending1.columns.tolist()]\n",
        "techulbpending2.info()"
      ],
      "execution_count": 10,
      "outputs": [
        {
          "output_type": "stream",
          "text": [
            "<class 'pandas.core.frame.DataFrame'>\n",
            "RangeIndex: 3386 entries, 0 to 3385\n",
            "Data columns (total 14 columns):\n",
            " #   Column                     Non-Null Count  Dtype \n",
            "---  ------                     --------------  ----- \n",
            " 0   Proposal_Code              3386 non-null   int64 \n",
            " 1   Service_Name               3386 non-null   object\n",
            " 2   Sr No                      3386 non-null   int64 \n",
            " 3   Region                     3386 non-null   object\n",
            " 4   District                   3386 non-null   object\n",
            " 5   ULB Name                   3386 non-null   object\n",
            " 6   Technical Person Name      3386 non-null   object\n",
            " 7   Technical Person Category  3381 non-null   object\n",
            " 8   Pending From Name          3384 non-null   object\n",
            " 9   Designation                3384 non-null   object\n",
            " 10  Registration Date          3386 non-null   object\n",
            " 11  Days                       3386 non-null   int64 \n",
            " 12  Days-1                     3386 non-null   object\n",
            " 13  Reason                     3386 non-null   object\n",
            "dtypes: int64(3), object(11)\n",
            "memory usage: 370.5+ KB\n"
          ],
          "name": "stdout"
        }
      ]
    },
    {
      "cell_type": "markdown",
      "metadata": {
        "id": "yvd0_f6UHv7x",
        "colab_type": "text"
      },
      "source": [
        "###**2) Adding 2 new column in \"Technical license registration request Pending from Technical Persons\"(Service_Name & Proposal Code)**"
      ]
    },
    {
      "cell_type": "code",
      "metadata": {
        "id": "YxUrbtmPHrVZ",
        "colab_type": "code",
        "colab": {}
      },
      "source": [
        "#Adding New Column Service_Name\n",
        "techarchitectpending1=techarchitectpending.assign(Service_Name='Technical License Registration')[['Service_Name'] + techarchitectpending.columns.tolist()]"
      ],
      "execution_count": 11,
      "outputs": []
    },
    {
      "cell_type": "code",
      "metadata": {
        "id": "pkARL2BfH5aT",
        "colab_type": "code",
        "colab": {
          "base_uri": "https://localhost:8080/",
          "height": 340
        },
        "outputId": "e0bb2c61-1b15-4caf-f924-e0b0826a3b81"
      },
      "source": [
        "#Adding onemore new column Proposal_Code\n",
        "techarchitectpending2=techarchitectpending1.assign(Proposal_Code= np.arange(len(techarchitectpending1)))[['Proposal_Code'] + techarchitectpending1.columns.tolist()]\n",
        "techarchitectpending2.info()"
      ],
      "execution_count": 12,
      "outputs": [
        {
          "output_type": "stream",
          "text": [
            "<class 'pandas.core.frame.DataFrame'>\n",
            "RangeIndex: 1668 entries, 0 to 1667\n",
            "Data columns (total 12 columns):\n",
            " #   Column                     Non-Null Count  Dtype \n",
            "---  ------                     --------------  ----- \n",
            " 0   Proposal_Code              1668 non-null   int64 \n",
            " 1   Service_Name               1668 non-null   object\n",
            " 2   Sr No                      1668 non-null   int64 \n",
            " 3   Region                     1668 non-null   object\n",
            " 4   District                   1668 non-null   object\n",
            " 5   ULB Name                   1668 non-null   object\n",
            " 6   Technical Person Name      1668 non-null   object\n",
            " 7   Technical Person Category  1665 non-null   object\n",
            " 8   Registration Date          1668 non-null   object\n",
            " 9   Days                       1668 non-null   int64 \n",
            " 10  Days-1                     1668 non-null   object\n",
            " 11  Reason                     1668 non-null   object\n",
            "dtypes: int64(3), object(9)\n",
            "memory usage: 156.5+ KB\n"
          ],
          "name": "stdout"
        }
      ]
    },
    {
      "cell_type": "markdown",
      "metadata": {
        "id": "BMBj_e9ILddS",
        "colab_type": "text"
      },
      "source": [
        "##**Renaming Column Name For matching Column with other file column name**"
      ]
    },
    {
      "cell_type": "markdown",
      "metadata": {
        "id": "azfwm90CIw-X",
        "colab_type": "text"
      },
      "source": [
        "###**1) Renaming Column From ULB Master File**"
      ]
    },
    {
      "cell_type": "code",
      "metadata": {
        "id": "ACQc8c_2JJtX",
        "colab_type": "code",
        "colab": {}
      },
      "source": [
        "#ulbm.rename(columns = {'Sr No':'Sr No.'}, inplace = True)\n",
        "#ulbm1=ulbm\n",
        "#ulbm1.info()"
      ],
      "execution_count": 40,
      "outputs": []
    },
    {
      "cell_type": "markdown",
      "metadata": {
        "id": "qZjjNDW_JngN",
        "colab_type": "text"
      },
      "source": [
        "###**2) Rename Column Name From \"Pendancy Report ULB\" For matching Column with other file column name**"
      ]
    },
    {
      "cell_type": "code",
      "metadata": {
        "id": "vjQsuxFvJ1YZ",
        "colab_type": "code",
        "colab": {}
      },
      "source": [
        "#Replace Column Name From 1st File For matching Column names with other file column name\n",
        "#ulbpending.rename(columns = {#'Service Name':'Service_Name', 'Proposal Code':'Proposal_Code',\n",
        "                             #'Sr No.':'Sr No',\n",
        "                              #'Reasons':'Reason',\n",
        "                             #'Days.1':'Days-1',\n",
        "                             #'Application Received Date':'Registration Date', \n",
        "                        #'Pending By':'Pending From Name'}, inplace = True)\n",
        "#ulbpending1=ulbpending\n",
        "#ulbpending1.info()"
      ],
      "execution_count": null,
      "outputs": []
    },
    {
      "cell_type": "markdown",
      "metadata": {
        "id": "kNZiQ3sEMR2s",
        "colab_type": "text"
      },
      "source": [
        "#**Next Process of Final Output of ULB Proposal Pendancy Report ( All Services)**"
      ]
    },
    {
      "cell_type": "markdown",
      "metadata": {
        "id": "17NyDLlSMezQ",
        "colab_type": "text"
      },
      "source": [
        "###**Mearging \"Pendecy Report of Pending from ULB Authority\" with \"Technical license registration request Pending from ULB Authority\"**"
      ]
    },
    {
      "cell_type": "code",
      "metadata": {
        "id": "fuDP54sfIBZH",
        "colab_type": "code",
        "colab": {
          "base_uri": "https://localhost:8080/",
          "height": 442
        },
        "outputId": "59186078-8c56-458f-ed81-2ecdc112f985"
      },
      "source": [
        "frames = [ulbpending, architectpending]\n",
        "Pendingfromulb = pd.concat(frames)\n",
        "Pendingfromulb.info()"
      ],
      "execution_count": 13,
      "outputs": [
        {
          "output_type": "stream",
          "text": [
            "<class 'pandas.core.frame.DataFrame'>\n",
            "Int64Index: 15030 entries, 0 to 8706\n",
            "Data columns (total 18 columns):\n",
            " #   Column                     Non-Null Count  Dtype \n",
            "---  ------                     --------------  ----- \n",
            " 0   Sr No.                     15030 non-null  int64 \n",
            " 1   Region                     15030 non-null  object\n",
            " 2   District                   15030 non-null  object\n",
            " 3   ULB Name                   15030 non-null  object\n",
            " 4   Proposal Code              15030 non-null  object\n",
            " 5   Risk Base                  15030 non-null  object\n",
            " 6   Government Scheme          274 non-null    object\n",
            " 7   Service Name               15030 non-null  object\n",
            " 8   Owner Name                 15030 non-null  object\n",
            " 9   Site Address               12918 non-null  object\n",
            " 10  Technical Person Name      15023 non-null  object\n",
            " 11  Technical Person Category  15022 non-null  object\n",
            " 12  Pending By                 6318 non-null   object\n",
            " 13  Designation                6318 non-null   object\n",
            " 14  Application Received Date  15030 non-null  object\n",
            " 15  Days                       15030 non-null  int64 \n",
            " 16  Days-1                     15030 non-null  object\n",
            " 17  Reasons                    15030 non-null  object\n",
            "dtypes: int64(2), object(16)\n",
            "memory usage: 2.2+ MB\n"
          ],
          "name": "stdout"
        }
      ]
    },
    {
      "cell_type": "markdown",
      "metadata": {
        "id": "OwF6ijZyNKxi",
        "colab_type": "text"
      },
      "source": [
        "Here I am mearing the output of after merging two files with ulb type master file to get ULB Type"
      ]
    },
    {
      "cell_type": "code",
      "metadata": {
        "id": "0T4dGKqyNGXk",
        "colab_type": "code",
        "colab": {
          "base_uri": "https://localhost:8080/",
          "height": 340
        },
        "outputId": "f17f0701-00a8-41c3-da4e-271c0ea324c6"
      },
      "source": [
        "mearge_op = pd.merge(ulbm,\n",
        "                 Pendingfromulb[['Region', 'District', 'ULB Name', 'Proposal Code', 'Service Name', 'Application Received Date', 'Days', 'Reasons', 'Days-1']],\n",
        "                 on=['Region', 'District', 'ULB Name'])\n",
        "                \n",
        "mearge_op.info()"
      ],
      "execution_count": 14,
      "outputs": [
        {
          "output_type": "stream",
          "text": [
            "<class 'pandas.core.frame.DataFrame'>\n",
            "Int64Index: 15030 entries, 0 to 15029\n",
            "Data columns (total 12 columns):\n",
            " #   Column                     Non-Null Count  Dtype \n",
            "---  ------                     --------------  ----- \n",
            " 0   Sr No                      15030 non-null  int64 \n",
            " 1   Region                     15030 non-null  object\n",
            " 2   District                   15030 non-null  object\n",
            " 3   ULB Name                   15030 non-null  object\n",
            " 4   ULB Type                   15030 non-null  object\n",
            " 5   Live ULB                   15030 non-null  object\n",
            " 6   Proposal Code              15030 non-null  object\n",
            " 7   Service Name               15030 non-null  object\n",
            " 8   Application Received Date  15030 non-null  object\n",
            " 9   Days                       15030 non-null  int64 \n",
            " 10  Reasons                    15030 non-null  object\n",
            " 11  Days-1                     15030 non-null  object\n",
            "dtypes: int64(2), object(10)\n",
            "memory usage: 1.5+ MB\n"
          ],
          "name": "stdout"
        }
      ]
    },
    {
      "cell_type": "markdown",
      "metadata": {
        "id": "EJElwhFdOpdt",
        "colab_type": "text"
      },
      "source": [
        "We can see in the below code output that the same reasons having diff spelings or diff sentences\n",
        "In the next code I have update the same"
      ]
    },
    {
      "cell_type": "code",
      "metadata": {
        "id": "PQJgJgNXON5p",
        "colab_type": "code",
        "colab": {
          "base_uri": "https://localhost:8080/",
          "height": 734
        },
        "outputId": "442e9837-14cc-4b59-8cdf-352b0e2af174"
      },
      "source": [
        "meargeA = mearge_op.groupby(['Reasons']).agg({\"Proposal Code\": pd.Series.nunique}).apply(list)\n",
        "meargeA"
      ],
      "execution_count": 15,
      "outputs": [
        {
          "output_type": "execute_result",
          "data": {
            "text/html": [
              "<div>\n",
              "<style scoped>\n",
              "    .dataframe tbody tr th:only-of-type {\n",
              "        vertical-align: middle;\n",
              "    }\n",
              "\n",
              "    .dataframe tbody tr th {\n",
              "        vertical-align: top;\n",
              "    }\n",
              "\n",
              "    .dataframe thead th {\n",
              "        text-align: right;\n",
              "    }\n",
              "</style>\n",
              "<table border=\"1\" class=\"dataframe\">\n",
              "  <thead>\n",
              "    <tr style=\"text-align: right;\">\n",
              "      <th></th>\n",
              "      <th>Proposal Code</th>\n",
              "    </tr>\n",
              "    <tr>\n",
              "      <th>Reasons</th>\n",
              "      <th></th>\n",
              "    </tr>\n",
              "  </thead>\n",
              "  <tbody>\n",
              "    <tr>\n",
              "      <th>Authority pending</th>\n",
              "      <td>290</td>\n",
              "    </tr>\n",
              "    <tr>\n",
              "      <th>Document Reassign</th>\n",
              "      <td>352</td>\n",
              "    </tr>\n",
              "    <tr>\n",
              "      <th>Document Reassigned</th>\n",
              "      <td>3984</td>\n",
              "    </tr>\n",
              "    <tr>\n",
              "      <th>Document Verification Pending</th>\n",
              "      <td>2879</td>\n",
              "    </tr>\n",
              "    <tr>\n",
              "      <th>Document Verification Pending and 1. NOC pending from FIRE DEPARMENT</th>\n",
              "      <td>1</td>\n",
              "    </tr>\n",
              "    <tr>\n",
              "      <th>Payment Pending</th>\n",
              "      <td>66</td>\n",
              "    </tr>\n",
              "    <tr>\n",
              "      <th>Payment pending</th>\n",
              "      <td>2234</td>\n",
              "    </tr>\n",
              "    <tr>\n",
              "      <th>Pending from ULB</th>\n",
              "      <td>1756</td>\n",
              "    </tr>\n",
              "    <tr>\n",
              "      <th>Pending from ULB and</th>\n",
              "      <td>4</td>\n",
              "    </tr>\n",
              "    <tr>\n",
              "      <th>Pending from ULB and 1. NOC pending from Arogya department</th>\n",
              "      <td>8</td>\n",
              "    </tr>\n",
              "    <tr>\n",
              "      <th>Pending from ULB and 1. NOC pending from City Sanitation department2. NOC pending from Garden Department</th>\n",
              "      <td>1</td>\n",
              "    </tr>\n",
              "    <tr>\n",
              "      <th>Pending from ULB and 1. NOC pending from FIRE DEPARMENT</th>\n",
              "      <td>15</td>\n",
              "    </tr>\n",
              "    <tr>\n",
              "      <th>Pending from ULB and 1. NOC pending from Fire Deapartment</th>\n",
              "      <td>1</td>\n",
              "    </tr>\n",
              "    <tr>\n",
              "      <th>Pending from ULB and 1. NOC pending from Water Department2. NOC pending from Assessment Department</th>\n",
              "      <td>1</td>\n",
              "    </tr>\n",
              "    <tr>\n",
              "      <th>Proposal Reassigned</th>\n",
              "      <td>2036</td>\n",
              "    </tr>\n",
              "    <tr>\n",
              "      <th>Site Inspection Pending</th>\n",
              "      <td>742</td>\n",
              "    </tr>\n",
              "    <tr>\n",
              "      <th>Site Inspection Pending and 1. NOC pending from Fire Department2. NOC pending from Property Tax Department3. NOC pending from Water Tax Department</th>\n",
              "      <td>1</td>\n",
              "    </tr>\n",
              "    <tr>\n",
              "      <th>Site Inspection Pending and 1. NOC pending from Water Department2. NOC pending from Assessment Department</th>\n",
              "      <td>1</td>\n",
              "    </tr>\n",
              "    <tr>\n",
              "      <th>Sitevisit Pending</th>\n",
              "      <td>471</td>\n",
              "    </tr>\n",
              "    <tr>\n",
              "      <th>survior Sitevisit Pending</th>\n",
              "      <td>21</td>\n",
              "    </tr>\n",
              "  </tbody>\n",
              "</table>\n",
              "</div>"
            ],
            "text/plain": [
              "                                                    Proposal Code\n",
              "Reasons                                                          \n",
              "Authority pending                                             290\n",
              "Document Reassign                                             352\n",
              "Document Reassigned                                          3984\n",
              "Document Verification Pending                                2879\n",
              "Document Verification Pending and 1. NOC pendin...              1\n",
              "Payment Pending                                                66\n",
              "Payment pending                                              2234\n",
              "Pending from ULB                                             1756\n",
              "Pending from ULB and                                            4\n",
              "Pending from ULB and 1. NOC pending from Arogya...              8\n",
              "Pending from ULB and 1. NOC pending from City S...              1\n",
              "Pending from ULB and 1. NOC pending from FIRE D...             15\n",
              "Pending from ULB and 1. NOC pending from Fire D...              1\n",
              "Pending from ULB and 1. NOC pending from Water ...              1\n",
              "Proposal Reassigned                                          2036\n",
              "Site Inspection Pending                                       742\n",
              "Site Inspection Pending and 1. NOC pending from...              1\n",
              "Site Inspection Pending and 1. NOC pending from...              1\n",
              "Sitevisit Pending                                             471\n",
              "survior Sitevisit Pending                                      21"
            ]
          },
          "metadata": {
            "tags": []
          },
          "execution_count": 15
        }
      ]
    },
    {
      "cell_type": "markdown",
      "metadata": {
        "id": "IcaUx5HmO9mJ",
        "colab_type": "text"
      },
      "source": [
        "Changing the reasons discripction"
      ]
    },
    {
      "cell_type": "code",
      "metadata": {
        "id": "ErGYAvTDNhsX",
        "colab_type": "code",
        "colab": {}
      },
      "source": [
        "mearge_op.replace({'Pending from ULB and 1. NOC pending from Arogya department':'NOC Pending',\n",
        "                   'Pending from ULB and 1. NOC pending from Bandhkam Vibhag':'NOC Pending',\n",
        "                   'Pending from ULB and 1. NOC pending from City Sanitation department2. NOC pending from Garden Department':'NOC Pending',\n",
        "                   'Pending from ULB and 1. NOC pending from FIRE DEPARMENT':'NOC Pending',\n",
        "                   'Pending from ULB and 1. NOC pending from Fire Deapartment':'NOC Pending',\n",
        "                   'Site Inspection Pending and 1. NOC pending from Fire Department2. NOC pending from Property Tax Department3. NOC pending from Water Tax Department':'NOC Pending',\n",
        "                   'Site Inspection Pending and 1. NOC pending from Water Department2. NOC pending from Assessment Department':'NOC Pending',\n",
        "                   'Site Inspection Pending':'Site Visit Pending',\n",
        "                   'Sitevisit Pending':'Site Visit Pending',\n",
        "                   'survior Sitevisit Pending':'Site Visit Pending',\n",
        "                   'Authority pending and 1. NOC pending from Arogya department':'NOC Pending',\n",
        "                   'Document Verification Pending and 1. NOC pending from FIRE DEPARMENT':'NOC Pending',\n",
        "                   'Pending from ULB and 1. NOC pending from Water Department2. NOC pending from Assessment Department':'NOC Pending',\n",
        "                   'Authority Pending':'Authority pending','Pending from ULB':'Authority pending',\n",
        "                   'Document Reassign':'Document Reassigned','Payment pending':'Payment Pending',\n",
        "                   'Document Verification Pending':'Document verification Pending',\n",
        "                   'Pending from ULB and':'NOC Pending'}, inplace = True)\n",
        "mearge_op2=mearge_op"
      ],
      "execution_count": 16,
      "outputs": []
    },
    {
      "cell_type": "code",
      "metadata": {
        "id": "Z0NRZqn8OC4W",
        "colab_type": "code",
        "colab": {
          "base_uri": "https://localhost:8080/",
          "height": 266
        },
        "outputId": "f6051198-da7d-4c33-8279-e0e1ffd061fe"
      },
      "source": [
        "mearge3 = mearge_op2.groupby(['Reasons']).agg({\"Proposal Code\": pd.Series.nunique}).apply(list)\n",
        "opinfo_2 = mearge3.reset_index()\n",
        "opinfo_2"
      ],
      "execution_count": 17,
      "outputs": [
        {
          "output_type": "execute_result",
          "data": {
            "text/html": [
              "<div>\n",
              "<style scoped>\n",
              "    .dataframe tbody tr th:only-of-type {\n",
              "        vertical-align: middle;\n",
              "    }\n",
              "\n",
              "    .dataframe tbody tr th {\n",
              "        vertical-align: top;\n",
              "    }\n",
              "\n",
              "    .dataframe thead th {\n",
              "        text-align: right;\n",
              "    }\n",
              "</style>\n",
              "<table border=\"1\" class=\"dataframe\">\n",
              "  <thead>\n",
              "    <tr style=\"text-align: right;\">\n",
              "      <th></th>\n",
              "      <th>Reasons</th>\n",
              "      <th>Proposal Code</th>\n",
              "    </tr>\n",
              "  </thead>\n",
              "  <tbody>\n",
              "    <tr>\n",
              "      <th>0</th>\n",
              "      <td>Authority pending</td>\n",
              "      <td>2046</td>\n",
              "    </tr>\n",
              "    <tr>\n",
              "      <th>1</th>\n",
              "      <td>Document Reassigned</td>\n",
              "      <td>4335</td>\n",
              "    </tr>\n",
              "    <tr>\n",
              "      <th>2</th>\n",
              "      <td>Document verification Pending</td>\n",
              "      <td>2879</td>\n",
              "    </tr>\n",
              "    <tr>\n",
              "      <th>3</th>\n",
              "      <td>NOC Pending</td>\n",
              "      <td>33</td>\n",
              "    </tr>\n",
              "    <tr>\n",
              "      <th>4</th>\n",
              "      <td>Payment Pending</td>\n",
              "      <td>2299</td>\n",
              "    </tr>\n",
              "    <tr>\n",
              "      <th>5</th>\n",
              "      <td>Proposal Reassigned</td>\n",
              "      <td>2036</td>\n",
              "    </tr>\n",
              "    <tr>\n",
              "      <th>6</th>\n",
              "      <td>Site Visit Pending</td>\n",
              "      <td>1234</td>\n",
              "    </tr>\n",
              "  </tbody>\n",
              "</table>\n",
              "</div>"
            ],
            "text/plain": [
              "                         Reasons  Proposal Code\n",
              "0              Authority pending           2046\n",
              "1            Document Reassigned           4335\n",
              "2  Document verification Pending           2879\n",
              "3                    NOC Pending             33\n",
              "4                Payment Pending           2299\n",
              "5            Proposal Reassigned           2036\n",
              "6             Site Visit Pending           1234"
            ]
          },
          "metadata": {
            "tags": []
          },
          "execution_count": 17
        }
      ]
    },
    {
      "cell_type": "markdown",
      "metadata": {
        "id": "W-eFOAsXp72F",
        "colab_type": "text"
      },
      "source": [
        "#**Final Output of all services Pendancy Report**"
      ]
    },
    {
      "cell_type": "code",
      "metadata": {
        "id": "YFJ30oYvPJ2M",
        "colab_type": "code",
        "colab": {
          "base_uri": "https://localhost:8080/",
          "height": 937
        },
        "outputId": "8ef1c2e2-83dd-4c9f-bd51-1e4a2811a9b5"
      },
      "source": [
        "pivot_2=pd.pivot_table(mearge_op2,index=[\"Region\",\"District\",\"ULB Name\", \"ULB Type\"],values=[\"Proposal Code\"],\n",
        "               columns=[\"Service Name\", \"Reasons\"],aggfunc=[len],fill_value=0,margins=True,dropna=True)\n",
        "pivot_2"
      ],
      "execution_count": 18,
      "outputs": [
        {
          "output_type": "execute_result",
          "data": {
            "text/html": [
              "<div>\n",
              "<style scoped>\n",
              "    .dataframe tbody tr th:only-of-type {\n",
              "        vertical-align: middle;\n",
              "    }\n",
              "\n",
              "    .dataframe tbody tr th {\n",
              "        vertical-align: top;\n",
              "    }\n",
              "\n",
              "    .dataframe thead tr th {\n",
              "        text-align: left;\n",
              "    }\n",
              "\n",
              "    .dataframe thead tr:last-of-type th {\n",
              "        text-align: right;\n",
              "    }\n",
              "</style>\n",
              "<table border=\"1\" class=\"dataframe\">\n",
              "  <thead>\n",
              "    <tr>\n",
              "      <th></th>\n",
              "      <th></th>\n",
              "      <th></th>\n",
              "      <th></th>\n",
              "      <th colspan=\"35\" halign=\"left\">len</th>\n",
              "    </tr>\n",
              "    <tr>\n",
              "      <th></th>\n",
              "      <th></th>\n",
              "      <th></th>\n",
              "      <th></th>\n",
              "      <th colspan=\"35\" halign=\"left\">Proposal Code</th>\n",
              "    </tr>\n",
              "    <tr>\n",
              "      <th></th>\n",
              "      <th></th>\n",
              "      <th></th>\n",
              "      <th>Service Name</th>\n",
              "      <th colspan=\"7\" halign=\"left\">Building Permission</th>\n",
              "      <th colspan=\"5\" halign=\"left\">Full Occupancy</th>\n",
              "      <th colspan=\"5\" halign=\"left\">Part Occupancy</th>\n",
              "      <th colspan=\"5\" halign=\"left\">Plinth Permission</th>\n",
              "      <th colspan=\"5\" halign=\"left\">Renewal Building Permission</th>\n",
              "      <th colspan=\"7\" halign=\"left\">Revise Building Permission</th>\n",
              "      <th>All</th>\n",
              "    </tr>\n",
              "    <tr>\n",
              "      <th></th>\n",
              "      <th></th>\n",
              "      <th></th>\n",
              "      <th>Reasons</th>\n",
              "      <th>Authority pending</th>\n",
              "      <th>Document Reassigned</th>\n",
              "      <th>Document verification Pending</th>\n",
              "      <th>NOC Pending</th>\n",
              "      <th>Payment Pending</th>\n",
              "      <th>Proposal Reassigned</th>\n",
              "      <th>Site Visit Pending</th>\n",
              "      <th>Authority pending</th>\n",
              "      <th>Document Reassigned</th>\n",
              "      <th>Document verification Pending</th>\n",
              "      <th>Payment Pending</th>\n",
              "      <th>Site Visit Pending</th>\n",
              "      <th>Authority pending</th>\n",
              "      <th>Document Reassigned</th>\n",
              "      <th>Document verification Pending</th>\n",
              "      <th>Payment Pending</th>\n",
              "      <th>Site Visit Pending</th>\n",
              "      <th>Authority pending</th>\n",
              "      <th>Document Reassigned</th>\n",
              "      <th>Document verification Pending</th>\n",
              "      <th>Payment Pending</th>\n",
              "      <th>Site Visit Pending</th>\n",
              "      <th>Authority pending</th>\n",
              "      <th>Document Reassigned</th>\n",
              "      <th>Document verification Pending</th>\n",
              "      <th>Payment Pending</th>\n",
              "      <th>Site Visit Pending</th>\n",
              "      <th>Authority pending</th>\n",
              "      <th>Document Reassigned</th>\n",
              "      <th>Document verification Pending</th>\n",
              "      <th>NOC Pending</th>\n",
              "      <th>Payment Pending</th>\n",
              "      <th>Proposal Reassigned</th>\n",
              "      <th>Site Visit Pending</th>\n",
              "      <th></th>\n",
              "    </tr>\n",
              "    <tr>\n",
              "      <th>Region</th>\n",
              "      <th>District</th>\n",
              "      <th>ULB Name</th>\n",
              "      <th>ULB Type</th>\n",
              "      <th></th>\n",
              "      <th></th>\n",
              "      <th></th>\n",
              "      <th></th>\n",
              "      <th></th>\n",
              "      <th></th>\n",
              "      <th></th>\n",
              "      <th></th>\n",
              "      <th></th>\n",
              "      <th></th>\n",
              "      <th></th>\n",
              "      <th></th>\n",
              "      <th></th>\n",
              "      <th></th>\n",
              "      <th></th>\n",
              "      <th></th>\n",
              "      <th></th>\n",
              "      <th></th>\n",
              "      <th></th>\n",
              "      <th></th>\n",
              "      <th></th>\n",
              "      <th></th>\n",
              "      <th></th>\n",
              "      <th></th>\n",
              "      <th></th>\n",
              "      <th></th>\n",
              "      <th></th>\n",
              "      <th></th>\n",
              "      <th></th>\n",
              "      <th></th>\n",
              "      <th></th>\n",
              "      <th></th>\n",
              "      <th></th>\n",
              "      <th></th>\n",
              "      <th></th>\n",
              "    </tr>\n",
              "  </thead>\n",
              "  <tbody>\n",
              "    <tr>\n",
              "      <th rowspan=\"5\" valign=\"top\">Amravati</th>\n",
              "      <th rowspan=\"5\" valign=\"top\">Akola</th>\n",
              "      <th>Akola Municipal Corporation</th>\n",
              "      <th>D</th>\n",
              "      <td>122</td>\n",
              "      <td>188</td>\n",
              "      <td>58</td>\n",
              "      <td>0</td>\n",
              "      <td>49</td>\n",
              "      <td>89</td>\n",
              "      <td>56</td>\n",
              "      <td>0</td>\n",
              "      <td>0</td>\n",
              "      <td>0</td>\n",
              "      <td>0</td>\n",
              "      <td>0</td>\n",
              "      <td>0</td>\n",
              "      <td>0</td>\n",
              "      <td>0</td>\n",
              "      <td>0</td>\n",
              "      <td>0</td>\n",
              "      <td>22</td>\n",
              "      <td>1</td>\n",
              "      <td>5</td>\n",
              "      <td>0</td>\n",
              "      <td>10</td>\n",
              "      <td>0</td>\n",
              "      <td>0</td>\n",
              "      <td>0</td>\n",
              "      <td>0</td>\n",
              "      <td>0</td>\n",
              "      <td>0</td>\n",
              "      <td>0</td>\n",
              "      <td>1</td>\n",
              "      <td>0</td>\n",
              "      <td>0</td>\n",
              "      <td>0</td>\n",
              "      <td>0</td>\n",
              "      <td>601</td>\n",
              "    </tr>\n",
              "    <tr>\n",
              "      <th>Akot Municipal Council</th>\n",
              "      <th>B</th>\n",
              "      <td>9</td>\n",
              "      <td>39</td>\n",
              "      <td>5</td>\n",
              "      <td>0</td>\n",
              "      <td>10</td>\n",
              "      <td>10</td>\n",
              "      <td>1</td>\n",
              "      <td>0</td>\n",
              "      <td>0</td>\n",
              "      <td>0</td>\n",
              "      <td>0</td>\n",
              "      <td>0</td>\n",
              "      <td>0</td>\n",
              "      <td>0</td>\n",
              "      <td>0</td>\n",
              "      <td>0</td>\n",
              "      <td>0</td>\n",
              "      <td>0</td>\n",
              "      <td>1</td>\n",
              "      <td>0</td>\n",
              "      <td>1</td>\n",
              "      <td>0</td>\n",
              "      <td>0</td>\n",
              "      <td>0</td>\n",
              "      <td>0</td>\n",
              "      <td>0</td>\n",
              "      <td>0</td>\n",
              "      <td>0</td>\n",
              "      <td>0</td>\n",
              "      <td>0</td>\n",
              "      <td>0</td>\n",
              "      <td>0</td>\n",
              "      <td>0</td>\n",
              "      <td>0</td>\n",
              "      <td>76</td>\n",
              "    </tr>\n",
              "    <tr>\n",
              "      <th>Balapur Municipal Council</th>\n",
              "      <th>C</th>\n",
              "      <td>0</td>\n",
              "      <td>3</td>\n",
              "      <td>0</td>\n",
              "      <td>0</td>\n",
              "      <td>1</td>\n",
              "      <td>0</td>\n",
              "      <td>0</td>\n",
              "      <td>0</td>\n",
              "      <td>0</td>\n",
              "      <td>0</td>\n",
              "      <td>0</td>\n",
              "      <td>0</td>\n",
              "      <td>0</td>\n",
              "      <td>0</td>\n",
              "      <td>0</td>\n",
              "      <td>0</td>\n",
              "      <td>0</td>\n",
              "      <td>0</td>\n",
              "      <td>0</td>\n",
              "      <td>0</td>\n",
              "      <td>0</td>\n",
              "      <td>0</td>\n",
              "      <td>0</td>\n",
              "      <td>0</td>\n",
              "      <td>0</td>\n",
              "      <td>0</td>\n",
              "      <td>0</td>\n",
              "      <td>0</td>\n",
              "      <td>0</td>\n",
              "      <td>0</td>\n",
              "      <td>0</td>\n",
              "      <td>0</td>\n",
              "      <td>0</td>\n",
              "      <td>0</td>\n",
              "      <td>4</td>\n",
              "    </tr>\n",
              "    <tr>\n",
              "      <th>Murtizapur Municipal Council</th>\n",
              "      <th>C</th>\n",
              "      <td>1</td>\n",
              "      <td>6</td>\n",
              "      <td>1</td>\n",
              "      <td>0</td>\n",
              "      <td>0</td>\n",
              "      <td>0</td>\n",
              "      <td>1</td>\n",
              "      <td>0</td>\n",
              "      <td>0</td>\n",
              "      <td>0</td>\n",
              "      <td>0</td>\n",
              "      <td>0</td>\n",
              "      <td>0</td>\n",
              "      <td>0</td>\n",
              "      <td>0</td>\n",
              "      <td>0</td>\n",
              "      <td>0</td>\n",
              "      <td>0</td>\n",
              "      <td>0</td>\n",
              "      <td>0</td>\n",
              "      <td>0</td>\n",
              "      <td>0</td>\n",
              "      <td>0</td>\n",
              "      <td>0</td>\n",
              "      <td>0</td>\n",
              "      <td>0</td>\n",
              "      <td>0</td>\n",
              "      <td>0</td>\n",
              "      <td>0</td>\n",
              "      <td>0</td>\n",
              "      <td>0</td>\n",
              "      <td>0</td>\n",
              "      <td>0</td>\n",
              "      <td>0</td>\n",
              "      <td>9</td>\n",
              "    </tr>\n",
              "    <tr>\n",
              "      <th>Patur Municipal Council</th>\n",
              "      <th>C</th>\n",
              "      <td>1</td>\n",
              "      <td>0</td>\n",
              "      <td>0</td>\n",
              "      <td>0</td>\n",
              "      <td>0</td>\n",
              "      <td>1</td>\n",
              "      <td>0</td>\n",
              "      <td>0</td>\n",
              "      <td>0</td>\n",
              "      <td>0</td>\n",
              "      <td>0</td>\n",
              "      <td>0</td>\n",
              "      <td>0</td>\n",
              "      <td>0</td>\n",
              "      <td>0</td>\n",
              "      <td>0</td>\n",
              "      <td>0</td>\n",
              "      <td>0</td>\n",
              "      <td>0</td>\n",
              "      <td>0</td>\n",
              "      <td>0</td>\n",
              "      <td>0</td>\n",
              "      <td>0</td>\n",
              "      <td>0</td>\n",
              "      <td>0</td>\n",
              "      <td>0</td>\n",
              "      <td>0</td>\n",
              "      <td>0</td>\n",
              "      <td>0</td>\n",
              "      <td>0</td>\n",
              "      <td>0</td>\n",
              "      <td>0</td>\n",
              "      <td>0</td>\n",
              "      <td>0</td>\n",
              "      <td>2</td>\n",
              "    </tr>\n",
              "    <tr>\n",
              "      <th>...</th>\n",
              "      <th>...</th>\n",
              "      <th>...</th>\n",
              "      <th>...</th>\n",
              "      <td>...</td>\n",
              "      <td>...</td>\n",
              "      <td>...</td>\n",
              "      <td>...</td>\n",
              "      <td>...</td>\n",
              "      <td>...</td>\n",
              "      <td>...</td>\n",
              "      <td>...</td>\n",
              "      <td>...</td>\n",
              "      <td>...</td>\n",
              "      <td>...</td>\n",
              "      <td>...</td>\n",
              "      <td>...</td>\n",
              "      <td>...</td>\n",
              "      <td>...</td>\n",
              "      <td>...</td>\n",
              "      <td>...</td>\n",
              "      <td>...</td>\n",
              "      <td>...</td>\n",
              "      <td>...</td>\n",
              "      <td>...</td>\n",
              "      <td>...</td>\n",
              "      <td>...</td>\n",
              "      <td>...</td>\n",
              "      <td>...</td>\n",
              "      <td>...</td>\n",
              "      <td>...</td>\n",
              "      <td>...</td>\n",
              "      <td>...</td>\n",
              "      <td>...</td>\n",
              "      <td>...</td>\n",
              "      <td>...</td>\n",
              "      <td>...</td>\n",
              "      <td>...</td>\n",
              "      <td>...</td>\n",
              "    </tr>\n",
              "    <tr>\n",
              "      <th rowspan=\"4\" valign=\"top\">Pune</th>\n",
              "      <th rowspan=\"4\" valign=\"top\">Solapur</th>\n",
              "      <th>Mangalvedha Municipal Council</th>\n",
              "      <th>C</th>\n",
              "      <td>2</td>\n",
              "      <td>6</td>\n",
              "      <td>3</td>\n",
              "      <td>0</td>\n",
              "      <td>3</td>\n",
              "      <td>2</td>\n",
              "      <td>2</td>\n",
              "      <td>0</td>\n",
              "      <td>0</td>\n",
              "      <td>0</td>\n",
              "      <td>0</td>\n",
              "      <td>0</td>\n",
              "      <td>0</td>\n",
              "      <td>0</td>\n",
              "      <td>0</td>\n",
              "      <td>0</td>\n",
              "      <td>0</td>\n",
              "      <td>1</td>\n",
              "      <td>1</td>\n",
              "      <td>0</td>\n",
              "      <td>0</td>\n",
              "      <td>0</td>\n",
              "      <td>0</td>\n",
              "      <td>0</td>\n",
              "      <td>0</td>\n",
              "      <td>0</td>\n",
              "      <td>0</td>\n",
              "      <td>0</td>\n",
              "      <td>0</td>\n",
              "      <td>0</td>\n",
              "      <td>0</td>\n",
              "      <td>0</td>\n",
              "      <td>0</td>\n",
              "      <td>0</td>\n",
              "      <td>20</td>\n",
              "    </tr>\n",
              "    <tr>\n",
              "      <th>Pandharpur Municipal Council</th>\n",
              "      <th>B</th>\n",
              "      <td>4</td>\n",
              "      <td>22</td>\n",
              "      <td>11</td>\n",
              "      <td>0</td>\n",
              "      <td>6</td>\n",
              "      <td>17</td>\n",
              "      <td>3</td>\n",
              "      <td>3</td>\n",
              "      <td>4</td>\n",
              "      <td>10</td>\n",
              "      <td>0</td>\n",
              "      <td>4</td>\n",
              "      <td>0</td>\n",
              "      <td>1</td>\n",
              "      <td>1</td>\n",
              "      <td>0</td>\n",
              "      <td>0</td>\n",
              "      <td>7</td>\n",
              "      <td>7</td>\n",
              "      <td>4</td>\n",
              "      <td>0</td>\n",
              "      <td>3</td>\n",
              "      <td>0</td>\n",
              "      <td>0</td>\n",
              "      <td>1</td>\n",
              "      <td>0</td>\n",
              "      <td>0</td>\n",
              "      <td>0</td>\n",
              "      <td>3</td>\n",
              "      <td>0</td>\n",
              "      <td>0</td>\n",
              "      <td>1</td>\n",
              "      <td>2</td>\n",
              "      <td>5</td>\n",
              "      <td>119</td>\n",
              "    </tr>\n",
              "    <tr>\n",
              "      <th>Sangola Municipal Council</th>\n",
              "      <th>C</th>\n",
              "      <td>2</td>\n",
              "      <td>19</td>\n",
              "      <td>7</td>\n",
              "      <td>0</td>\n",
              "      <td>14</td>\n",
              "      <td>6</td>\n",
              "      <td>0</td>\n",
              "      <td>0</td>\n",
              "      <td>0</td>\n",
              "      <td>1</td>\n",
              "      <td>0</td>\n",
              "      <td>0</td>\n",
              "      <td>0</td>\n",
              "      <td>1</td>\n",
              "      <td>0</td>\n",
              "      <td>0</td>\n",
              "      <td>0</td>\n",
              "      <td>0</td>\n",
              "      <td>6</td>\n",
              "      <td>6</td>\n",
              "      <td>0</td>\n",
              "      <td>0</td>\n",
              "      <td>0</td>\n",
              "      <td>0</td>\n",
              "      <td>0</td>\n",
              "      <td>0</td>\n",
              "      <td>0</td>\n",
              "      <td>1</td>\n",
              "      <td>0</td>\n",
              "      <td>0</td>\n",
              "      <td>0</td>\n",
              "      <td>0</td>\n",
              "      <td>1</td>\n",
              "      <td>0</td>\n",
              "      <td>64</td>\n",
              "    </tr>\n",
              "    <tr>\n",
              "      <th>Solapur Municipal Corporation</th>\n",
              "      <th>D</th>\n",
              "      <td>8</td>\n",
              "      <td>40</td>\n",
              "      <td>2</td>\n",
              "      <td>0</td>\n",
              "      <td>30</td>\n",
              "      <td>14</td>\n",
              "      <td>6</td>\n",
              "      <td>0</td>\n",
              "      <td>0</td>\n",
              "      <td>0</td>\n",
              "      <td>0</td>\n",
              "      <td>0</td>\n",
              "      <td>0</td>\n",
              "      <td>0</td>\n",
              "      <td>0</td>\n",
              "      <td>0</td>\n",
              "      <td>0</td>\n",
              "      <td>0</td>\n",
              "      <td>0</td>\n",
              "      <td>0</td>\n",
              "      <td>0</td>\n",
              "      <td>0</td>\n",
              "      <td>0</td>\n",
              "      <td>0</td>\n",
              "      <td>0</td>\n",
              "      <td>0</td>\n",
              "      <td>0</td>\n",
              "      <td>0</td>\n",
              "      <td>0</td>\n",
              "      <td>0</td>\n",
              "      <td>0</td>\n",
              "      <td>0</td>\n",
              "      <td>0</td>\n",
              "      <td>0</td>\n",
              "      <td>100</td>\n",
              "    </tr>\n",
              "    <tr>\n",
              "      <th>All</th>\n",
              "      <th></th>\n",
              "      <th></th>\n",
              "      <th></th>\n",
              "      <td>1710</td>\n",
              "      <td>3950</td>\n",
              "      <td>2224</td>\n",
              "      <td>29</td>\n",
              "      <td>2190</td>\n",
              "      <td>2007</td>\n",
              "      <td>734</td>\n",
              "      <td>66</td>\n",
              "      <td>101</td>\n",
              "      <td>127</td>\n",
              "      <td>21</td>\n",
              "      <td>72</td>\n",
              "      <td>16</td>\n",
              "      <td>25</td>\n",
              "      <td>24</td>\n",
              "      <td>10</td>\n",
              "      <td>16</td>\n",
              "      <td>209</td>\n",
              "      <td>254</td>\n",
              "      <td>503</td>\n",
              "      <td>32</td>\n",
              "      <td>394</td>\n",
              "      <td>6</td>\n",
              "      <td>3</td>\n",
              "      <td>42</td>\n",
              "      <td>3</td>\n",
              "      <td>26</td>\n",
              "      <td>48</td>\n",
              "      <td>35</td>\n",
              "      <td>43</td>\n",
              "      <td>4</td>\n",
              "      <td>47</td>\n",
              "      <td>29</td>\n",
              "      <td>30</td>\n",
              "      <td>15030</td>\n",
              "    </tr>\n",
              "  </tbody>\n",
              "</table>\n",
              "<p>239 rows × 35 columns</p>\n",
              "</div>"
            ],
            "text/plain": [
              "                                                                         len  \\\n",
              "                                                               Proposal Code   \n",
              "Service Name                                             Building Permission   \n",
              "Reasons                                                    Authority pending   \n",
              "Region   District ULB Name                      ULB Type                       \n",
              "Amravati Akola    Akola Municipal Corporation   D                        122   \n",
              "                  Akot Municipal Council        B                          9   \n",
              "                  Balapur Municipal Council     C                          0   \n",
              "                  Murtizapur Municipal Council  C                          1   \n",
              "                  Patur Municipal Council       C                          1   \n",
              "...                                                                      ...   \n",
              "Pune     Solapur  Mangalvedha Municipal Council C                          2   \n",
              "                  Pandharpur Municipal Council  B                          4   \n",
              "                  Sangola Municipal Council     C                          2   \n",
              "                  Solapur Municipal Corporation D                          8   \n",
              "All                                                                     1710   \n",
              "\n",
              "                                                                              \\\n",
              "                                                                               \n",
              "Service Name                                                                   \n",
              "Reasons                                                  Document Reassigned   \n",
              "Region   District ULB Name                      ULB Type                       \n",
              "Amravati Akola    Akola Municipal Corporation   D                        188   \n",
              "                  Akot Municipal Council        B                         39   \n",
              "                  Balapur Municipal Council     C                          3   \n",
              "                  Murtizapur Municipal Council  C                          6   \n",
              "                  Patur Municipal Council       C                          0   \n",
              "...                                                                      ...   \n",
              "Pune     Solapur  Mangalvedha Municipal Council C                          6   \n",
              "                  Pandharpur Municipal Council  B                         22   \n",
              "                  Sangola Municipal Council     C                         19   \n",
              "                  Solapur Municipal Corporation D                         40   \n",
              "All                                                                     3950   \n",
              "\n",
              "                                                                                        \\\n",
              "                                                                                         \n",
              "Service Name                                                                             \n",
              "Reasons                                                  Document verification Pending   \n",
              "Region   District ULB Name                      ULB Type                                 \n",
              "Amravati Akola    Akola Municipal Corporation   D                                   58   \n",
              "                  Akot Municipal Council        B                                    5   \n",
              "                  Balapur Municipal Council     C                                    0   \n",
              "                  Murtizapur Municipal Council  C                                    1   \n",
              "                  Patur Municipal Council       C                                    0   \n",
              "...                                                                                ...   \n",
              "Pune     Solapur  Mangalvedha Municipal Council C                                    3   \n",
              "                  Pandharpur Municipal Council  B                                   11   \n",
              "                  Sangola Municipal Council     C                                    7   \n",
              "                  Solapur Municipal Corporation D                                    2   \n",
              "All                                                                               2224   \n",
              "\n",
              "                                                                      \\\n",
              "                                                                       \n",
              "Service Name                                                           \n",
              "Reasons                                                  NOC Pending   \n",
              "Region   District ULB Name                      ULB Type               \n",
              "Amravati Akola    Akola Municipal Corporation   D                  0   \n",
              "                  Akot Municipal Council        B                  0   \n",
              "                  Balapur Municipal Council     C                  0   \n",
              "                  Murtizapur Municipal Council  C                  0   \n",
              "                  Patur Municipal Council       C                  0   \n",
              "...                                                              ...   \n",
              "Pune     Solapur  Mangalvedha Municipal Council C                  0   \n",
              "                  Pandharpur Municipal Council  B                  0   \n",
              "                  Sangola Municipal Council     C                  0   \n",
              "                  Solapur Municipal Corporation D                  0   \n",
              "All                                                               29   \n",
              "\n",
              "                                                                          \\\n",
              "                                                                           \n",
              "Service Name                                                               \n",
              "Reasons                                                  Payment Pending   \n",
              "Region   District ULB Name                      ULB Type                   \n",
              "Amravati Akola    Akola Municipal Corporation   D                     49   \n",
              "                  Akot Municipal Council        B                     10   \n",
              "                  Balapur Municipal Council     C                      1   \n",
              "                  Murtizapur Municipal Council  C                      0   \n",
              "                  Patur Municipal Council       C                      0   \n",
              "...                                                                  ...   \n",
              "Pune     Solapur  Mangalvedha Municipal Council C                      3   \n",
              "                  Pandharpur Municipal Council  B                      6   \n",
              "                  Sangola Municipal Council     C                     14   \n",
              "                  Solapur Municipal Corporation D                     30   \n",
              "All                                                                 2190   \n",
              "\n",
              "                                                                              \\\n",
              "                                                                               \n",
              "Service Name                                                                   \n",
              "Reasons                                                  Proposal Reassigned   \n",
              "Region   District ULB Name                      ULB Type                       \n",
              "Amravati Akola    Akola Municipal Corporation   D                         89   \n",
              "                  Akot Municipal Council        B                         10   \n",
              "                  Balapur Municipal Council     C                          0   \n",
              "                  Murtizapur Municipal Council  C                          0   \n",
              "                  Patur Municipal Council       C                          1   \n",
              "...                                                                      ...   \n",
              "Pune     Solapur  Mangalvedha Municipal Council C                          2   \n",
              "                  Pandharpur Municipal Council  B                         17   \n",
              "                  Sangola Municipal Council     C                          6   \n",
              "                  Solapur Municipal Corporation D                         14   \n",
              "All                                                                     2007   \n",
              "\n",
              "                                                                             \\\n",
              "                                                                              \n",
              "Service Name                                                                  \n",
              "Reasons                                                  Site Visit Pending   \n",
              "Region   District ULB Name                      ULB Type                      \n",
              "Amravati Akola    Akola Municipal Corporation   D                        56   \n",
              "                  Akot Municipal Council        B                         1   \n",
              "                  Balapur Municipal Council     C                         0   \n",
              "                  Murtizapur Municipal Council  C                         1   \n",
              "                  Patur Municipal Council       C                         0   \n",
              "...                                                                     ...   \n",
              "Pune     Solapur  Mangalvedha Municipal Council C                         2   \n",
              "                  Pandharpur Municipal Council  B                         3   \n",
              "                  Sangola Municipal Council     C                         0   \n",
              "                  Solapur Municipal Corporation D                         6   \n",
              "All                                                                     734   \n",
              "\n",
              "                                                                            \\\n",
              "                                                                             \n",
              "Service Name                                                Full Occupancy   \n",
              "Reasons                                                  Authority pending   \n",
              "Region   District ULB Name                      ULB Type                     \n",
              "Amravati Akola    Akola Municipal Corporation   D                        0   \n",
              "                  Akot Municipal Council        B                        0   \n",
              "                  Balapur Municipal Council     C                        0   \n",
              "                  Murtizapur Municipal Council  C                        0   \n",
              "                  Patur Municipal Council       C                        0   \n",
              "...                                                                    ...   \n",
              "Pune     Solapur  Mangalvedha Municipal Council C                        0   \n",
              "                  Pandharpur Municipal Council  B                        3   \n",
              "                  Sangola Municipal Council     C                        0   \n",
              "                  Solapur Municipal Corporation D                        0   \n",
              "All                                                                     66   \n",
              "\n",
              "                                                                              \\\n",
              "                                                                               \n",
              "Service Name                                                                   \n",
              "Reasons                                                  Document Reassigned   \n",
              "Region   District ULB Name                      ULB Type                       \n",
              "Amravati Akola    Akola Municipal Corporation   D                          0   \n",
              "                  Akot Municipal Council        B                          0   \n",
              "                  Balapur Municipal Council     C                          0   \n",
              "                  Murtizapur Municipal Council  C                          0   \n",
              "                  Patur Municipal Council       C                          0   \n",
              "...                                                                      ...   \n",
              "Pune     Solapur  Mangalvedha Municipal Council C                          0   \n",
              "                  Pandharpur Municipal Council  B                          4   \n",
              "                  Sangola Municipal Council     C                          0   \n",
              "                  Solapur Municipal Corporation D                          0   \n",
              "All                                                                      101   \n",
              "\n",
              "                                                                                        \\\n",
              "                                                                                         \n",
              "Service Name                                                                             \n",
              "Reasons                                                  Document verification Pending   \n",
              "Region   District ULB Name                      ULB Type                                 \n",
              "Amravati Akola    Akola Municipal Corporation   D                                    0   \n",
              "                  Akot Municipal Council        B                                    0   \n",
              "                  Balapur Municipal Council     C                                    0   \n",
              "                  Murtizapur Municipal Council  C                                    0   \n",
              "                  Patur Municipal Council       C                                    0   \n",
              "...                                                                                ...   \n",
              "Pune     Solapur  Mangalvedha Municipal Council C                                    0   \n",
              "                  Pandharpur Municipal Council  B                                   10   \n",
              "                  Sangola Municipal Council     C                                    1   \n",
              "                  Solapur Municipal Corporation D                                    0   \n",
              "All                                                                                127   \n",
              "\n",
              "                                                                          \\\n",
              "                                                                           \n",
              "Service Name                                                               \n",
              "Reasons                                                  Payment Pending   \n",
              "Region   District ULB Name                      ULB Type                   \n",
              "Amravati Akola    Akola Municipal Corporation   D                      0   \n",
              "                  Akot Municipal Council        B                      0   \n",
              "                  Balapur Municipal Council     C                      0   \n",
              "                  Murtizapur Municipal Council  C                      0   \n",
              "                  Patur Municipal Council       C                      0   \n",
              "...                                                                  ...   \n",
              "Pune     Solapur  Mangalvedha Municipal Council C                      0   \n",
              "                  Pandharpur Municipal Council  B                      0   \n",
              "                  Sangola Municipal Council     C                      0   \n",
              "                  Solapur Municipal Corporation D                      0   \n",
              "All                                                                   21   \n",
              "\n",
              "                                                                             \\\n",
              "                                                                              \n",
              "Service Name                                                                  \n",
              "Reasons                                                  Site Visit Pending   \n",
              "Region   District ULB Name                      ULB Type                      \n",
              "Amravati Akola    Akola Municipal Corporation   D                         0   \n",
              "                  Akot Municipal Council        B                         0   \n",
              "                  Balapur Municipal Council     C                         0   \n",
              "                  Murtizapur Municipal Council  C                         0   \n",
              "                  Patur Municipal Council       C                         0   \n",
              "...                                                                     ...   \n",
              "Pune     Solapur  Mangalvedha Municipal Council C                         0   \n",
              "                  Pandharpur Municipal Council  B                         4   \n",
              "                  Sangola Municipal Council     C                         0   \n",
              "                  Solapur Municipal Corporation D                         0   \n",
              "All                                                                      72   \n",
              "\n",
              "                                                                            \\\n",
              "                                                                             \n",
              "Service Name                                                Part Occupancy   \n",
              "Reasons                                                  Authority pending   \n",
              "Region   District ULB Name                      ULB Type                     \n",
              "Amravati Akola    Akola Municipal Corporation   D                        0   \n",
              "                  Akot Municipal Council        B                        0   \n",
              "                  Balapur Municipal Council     C                        0   \n",
              "                  Murtizapur Municipal Council  C                        0   \n",
              "                  Patur Municipal Council       C                        0   \n",
              "...                                                                    ...   \n",
              "Pune     Solapur  Mangalvedha Municipal Council C                        0   \n",
              "                  Pandharpur Municipal Council  B                        0   \n",
              "                  Sangola Municipal Council     C                        0   \n",
              "                  Solapur Municipal Corporation D                        0   \n",
              "All                                                                     16   \n",
              "\n",
              "                                                                              \\\n",
              "                                                                               \n",
              "Service Name                                                                   \n",
              "Reasons                                                  Document Reassigned   \n",
              "Region   District ULB Name                      ULB Type                       \n",
              "Amravati Akola    Akola Municipal Corporation   D                          0   \n",
              "                  Akot Municipal Council        B                          0   \n",
              "                  Balapur Municipal Council     C                          0   \n",
              "                  Murtizapur Municipal Council  C                          0   \n",
              "                  Patur Municipal Council       C                          0   \n",
              "...                                                                      ...   \n",
              "Pune     Solapur  Mangalvedha Municipal Council C                          0   \n",
              "                  Pandharpur Municipal Council  B                          1   \n",
              "                  Sangola Municipal Council     C                          1   \n",
              "                  Solapur Municipal Corporation D                          0   \n",
              "All                                                                       25   \n",
              "\n",
              "                                                                                        \\\n",
              "                                                                                         \n",
              "Service Name                                                                             \n",
              "Reasons                                                  Document verification Pending   \n",
              "Region   District ULB Name                      ULB Type                                 \n",
              "Amravati Akola    Akola Municipal Corporation   D                                    0   \n",
              "                  Akot Municipal Council        B                                    0   \n",
              "                  Balapur Municipal Council     C                                    0   \n",
              "                  Murtizapur Municipal Council  C                                    0   \n",
              "                  Patur Municipal Council       C                                    0   \n",
              "...                                                                                ...   \n",
              "Pune     Solapur  Mangalvedha Municipal Council C                                    0   \n",
              "                  Pandharpur Municipal Council  B                                    1   \n",
              "                  Sangola Municipal Council     C                                    0   \n",
              "                  Solapur Municipal Corporation D                                    0   \n",
              "All                                                                                 24   \n",
              "\n",
              "                                                                          \\\n",
              "                                                                           \n",
              "Service Name                                                               \n",
              "Reasons                                                  Payment Pending   \n",
              "Region   District ULB Name                      ULB Type                   \n",
              "Amravati Akola    Akola Municipal Corporation   D                      0   \n",
              "                  Akot Municipal Council        B                      0   \n",
              "                  Balapur Municipal Council     C                      0   \n",
              "                  Murtizapur Municipal Council  C                      0   \n",
              "                  Patur Municipal Council       C                      0   \n",
              "...                                                                  ...   \n",
              "Pune     Solapur  Mangalvedha Municipal Council C                      0   \n",
              "                  Pandharpur Municipal Council  B                      0   \n",
              "                  Sangola Municipal Council     C                      0   \n",
              "                  Solapur Municipal Corporation D                      0   \n",
              "All                                                                   10   \n",
              "\n",
              "                                                                             \\\n",
              "                                                                              \n",
              "Service Name                                                                  \n",
              "Reasons                                                  Site Visit Pending   \n",
              "Region   District ULB Name                      ULB Type                      \n",
              "Amravati Akola    Akola Municipal Corporation   D                         0   \n",
              "                  Akot Municipal Council        B                         0   \n",
              "                  Balapur Municipal Council     C                         0   \n",
              "                  Murtizapur Municipal Council  C                         0   \n",
              "                  Patur Municipal Council       C                         0   \n",
              "...                                                                     ...   \n",
              "Pune     Solapur  Mangalvedha Municipal Council C                         0   \n",
              "                  Pandharpur Municipal Council  B                         0   \n",
              "                  Sangola Municipal Council     C                         0   \n",
              "                  Solapur Municipal Corporation D                         0   \n",
              "All                                                                      16   \n",
              "\n",
              "                                                                            \\\n",
              "                                                                             \n",
              "Service Name                                             Plinth Permission   \n",
              "Reasons                                                  Authority pending   \n",
              "Region   District ULB Name                      ULB Type                     \n",
              "Amravati Akola    Akola Municipal Corporation   D                       22   \n",
              "                  Akot Municipal Council        B                        0   \n",
              "                  Balapur Municipal Council     C                        0   \n",
              "                  Murtizapur Municipal Council  C                        0   \n",
              "                  Patur Municipal Council       C                        0   \n",
              "...                                                                    ...   \n",
              "Pune     Solapur  Mangalvedha Municipal Council C                        1   \n",
              "                  Pandharpur Municipal Council  B                        7   \n",
              "                  Sangola Municipal Council     C                        0   \n",
              "                  Solapur Municipal Corporation D                        0   \n",
              "All                                                                    209   \n",
              "\n",
              "                                                                              \\\n",
              "                                                                               \n",
              "Service Name                                                                   \n",
              "Reasons                                                  Document Reassigned   \n",
              "Region   District ULB Name                      ULB Type                       \n",
              "Amravati Akola    Akola Municipal Corporation   D                          1   \n",
              "                  Akot Municipal Council        B                          1   \n",
              "                  Balapur Municipal Council     C                          0   \n",
              "                  Murtizapur Municipal Council  C                          0   \n",
              "                  Patur Municipal Council       C                          0   \n",
              "...                                                                      ...   \n",
              "Pune     Solapur  Mangalvedha Municipal Council C                          1   \n",
              "                  Pandharpur Municipal Council  B                          7   \n",
              "                  Sangola Municipal Council     C                          6   \n",
              "                  Solapur Municipal Corporation D                          0   \n",
              "All                                                                      254   \n",
              "\n",
              "                                                                                        \\\n",
              "                                                                                         \n",
              "Service Name                                                                             \n",
              "Reasons                                                  Document verification Pending   \n",
              "Region   District ULB Name                      ULB Type                                 \n",
              "Amravati Akola    Akola Municipal Corporation   D                                    5   \n",
              "                  Akot Municipal Council        B                                    0   \n",
              "                  Balapur Municipal Council     C                                    0   \n",
              "                  Murtizapur Municipal Council  C                                    0   \n",
              "                  Patur Municipal Council       C                                    0   \n",
              "...                                                                                ...   \n",
              "Pune     Solapur  Mangalvedha Municipal Council C                                    0   \n",
              "                  Pandharpur Municipal Council  B                                    4   \n",
              "                  Sangola Municipal Council     C                                    6   \n",
              "                  Solapur Municipal Corporation D                                    0   \n",
              "All                                                                                503   \n",
              "\n",
              "                                                                          \\\n",
              "                                                                           \n",
              "Service Name                                                               \n",
              "Reasons                                                  Payment Pending   \n",
              "Region   District ULB Name                      ULB Type                   \n",
              "Amravati Akola    Akola Municipal Corporation   D                      0   \n",
              "                  Akot Municipal Council        B                      1   \n",
              "                  Balapur Municipal Council     C                      0   \n",
              "                  Murtizapur Municipal Council  C                      0   \n",
              "                  Patur Municipal Council       C                      0   \n",
              "...                                                                  ...   \n",
              "Pune     Solapur  Mangalvedha Municipal Council C                      0   \n",
              "                  Pandharpur Municipal Council  B                      0   \n",
              "                  Sangola Municipal Council     C                      0   \n",
              "                  Solapur Municipal Corporation D                      0   \n",
              "All                                                                   32   \n",
              "\n",
              "                                                                             \\\n",
              "                                                                              \n",
              "Service Name                                                                  \n",
              "Reasons                                                  Site Visit Pending   \n",
              "Region   District ULB Name                      ULB Type                      \n",
              "Amravati Akola    Akola Municipal Corporation   D                        10   \n",
              "                  Akot Municipal Council        B                         0   \n",
              "                  Balapur Municipal Council     C                         0   \n",
              "                  Murtizapur Municipal Council  C                         0   \n",
              "                  Patur Municipal Council       C                         0   \n",
              "...                                                                     ...   \n",
              "Pune     Solapur  Mangalvedha Municipal Council C                         0   \n",
              "                  Pandharpur Municipal Council  B                         3   \n",
              "                  Sangola Municipal Council     C                         0   \n",
              "                  Solapur Municipal Corporation D                         0   \n",
              "All                                                                     394   \n",
              "\n",
              "                                                                                      \\\n",
              "                                                                                       \n",
              "Service Name                                             Renewal Building Permission   \n",
              "Reasons                                                            Authority pending   \n",
              "Region   District ULB Name                      ULB Type                               \n",
              "Amravati Akola    Akola Municipal Corporation   D                                  0   \n",
              "                  Akot Municipal Council        B                                  0   \n",
              "                  Balapur Municipal Council     C                                  0   \n",
              "                  Murtizapur Municipal Council  C                                  0   \n",
              "                  Patur Municipal Council       C                                  0   \n",
              "...                                                                              ...   \n",
              "Pune     Solapur  Mangalvedha Municipal Council C                                  0   \n",
              "                  Pandharpur Municipal Council  B                                  0   \n",
              "                  Sangola Municipal Council     C                                  0   \n",
              "                  Solapur Municipal Corporation D                                  0   \n",
              "All                                                                                6   \n",
              "\n",
              "                                                                              \\\n",
              "                                                                               \n",
              "Service Name                                                                   \n",
              "Reasons                                                  Document Reassigned   \n",
              "Region   District ULB Name                      ULB Type                       \n",
              "Amravati Akola    Akola Municipal Corporation   D                          0   \n",
              "                  Akot Municipal Council        B                          0   \n",
              "                  Balapur Municipal Council     C                          0   \n",
              "                  Murtizapur Municipal Council  C                          0   \n",
              "                  Patur Municipal Council       C                          0   \n",
              "...                                                                      ...   \n",
              "Pune     Solapur  Mangalvedha Municipal Council C                          0   \n",
              "                  Pandharpur Municipal Council  B                          0   \n",
              "                  Sangola Municipal Council     C                          0   \n",
              "                  Solapur Municipal Corporation D                          0   \n",
              "All                                                                        3   \n",
              "\n",
              "                                                                                        \\\n",
              "                                                                                         \n",
              "Service Name                                                                             \n",
              "Reasons                                                  Document verification Pending   \n",
              "Region   District ULB Name                      ULB Type                                 \n",
              "Amravati Akola    Akola Municipal Corporation   D                                    0   \n",
              "                  Akot Municipal Council        B                                    0   \n",
              "                  Balapur Municipal Council     C                                    0   \n",
              "                  Murtizapur Municipal Council  C                                    0   \n",
              "                  Patur Municipal Council       C                                    0   \n",
              "...                                                                                ...   \n",
              "Pune     Solapur  Mangalvedha Municipal Council C                                    0   \n",
              "                  Pandharpur Municipal Council  B                                    1   \n",
              "                  Sangola Municipal Council     C                                    0   \n",
              "                  Solapur Municipal Corporation D                                    0   \n",
              "All                                                                                 42   \n",
              "\n",
              "                                                                          \\\n",
              "                                                                           \n",
              "Service Name                                                               \n",
              "Reasons                                                  Payment Pending   \n",
              "Region   District ULB Name                      ULB Type                   \n",
              "Amravati Akola    Akola Municipal Corporation   D                      0   \n",
              "                  Akot Municipal Council        B                      0   \n",
              "                  Balapur Municipal Council     C                      0   \n",
              "                  Murtizapur Municipal Council  C                      0   \n",
              "                  Patur Municipal Council       C                      0   \n",
              "...                                                                  ...   \n",
              "Pune     Solapur  Mangalvedha Municipal Council C                      0   \n",
              "                  Pandharpur Municipal Council  B                      0   \n",
              "                  Sangola Municipal Council     C                      0   \n",
              "                  Solapur Municipal Corporation D                      0   \n",
              "All                                                                    3   \n",
              "\n",
              "                                                                             \\\n",
              "                                                                              \n",
              "Service Name                                                                  \n",
              "Reasons                                                  Site Visit Pending   \n",
              "Region   District ULB Name                      ULB Type                      \n",
              "Amravati Akola    Akola Municipal Corporation   D                         0   \n",
              "                  Akot Municipal Council        B                         0   \n",
              "                  Balapur Municipal Council     C                         0   \n",
              "                  Murtizapur Municipal Council  C                         0   \n",
              "                  Patur Municipal Council       C                         0   \n",
              "...                                                                     ...   \n",
              "Pune     Solapur  Mangalvedha Municipal Council C                         0   \n",
              "                  Pandharpur Municipal Council  B                         0   \n",
              "                  Sangola Municipal Council     C                         0   \n",
              "                  Solapur Municipal Corporation D                         0   \n",
              "All                                                                      26   \n",
              "\n",
              "                                                                                     \\\n",
              "                                                                                      \n",
              "Service Name                                             Revise Building Permission   \n",
              "Reasons                                                           Authority pending   \n",
              "Region   District ULB Name                      ULB Type                              \n",
              "Amravati Akola    Akola Municipal Corporation   D                                 0   \n",
              "                  Akot Municipal Council        B                                 0   \n",
              "                  Balapur Municipal Council     C                                 0   \n",
              "                  Murtizapur Municipal Council  C                                 0   \n",
              "                  Patur Municipal Council       C                                 0   \n",
              "...                                                                             ...   \n",
              "Pune     Solapur  Mangalvedha Municipal Council C                                 0   \n",
              "                  Pandharpur Municipal Council  B                                 0   \n",
              "                  Sangola Municipal Council     C                                 1   \n",
              "                  Solapur Municipal Corporation D                                 0   \n",
              "All                                                                              48   \n",
              "\n",
              "                                                                              \\\n",
              "                                                                               \n",
              "Service Name                                                                   \n",
              "Reasons                                                  Document Reassigned   \n",
              "Region   District ULB Name                      ULB Type                       \n",
              "Amravati Akola    Akola Municipal Corporation   D                          0   \n",
              "                  Akot Municipal Council        B                          0   \n",
              "                  Balapur Municipal Council     C                          0   \n",
              "                  Murtizapur Municipal Council  C                          0   \n",
              "                  Patur Municipal Council       C                          0   \n",
              "...                                                                      ...   \n",
              "Pune     Solapur  Mangalvedha Municipal Council C                          0   \n",
              "                  Pandharpur Municipal Council  B                          3   \n",
              "                  Sangola Municipal Council     C                          0   \n",
              "                  Solapur Municipal Corporation D                          0   \n",
              "All                                                                       35   \n",
              "\n",
              "                                                                                        \\\n",
              "                                                                                         \n",
              "Service Name                                                                             \n",
              "Reasons                                                  Document verification Pending   \n",
              "Region   District ULB Name                      ULB Type                                 \n",
              "Amravati Akola    Akola Municipal Corporation   D                                    1   \n",
              "                  Akot Municipal Council        B                                    0   \n",
              "                  Balapur Municipal Council     C                                    0   \n",
              "                  Murtizapur Municipal Council  C                                    0   \n",
              "                  Patur Municipal Council       C                                    0   \n",
              "...                                                                                ...   \n",
              "Pune     Solapur  Mangalvedha Municipal Council C                                    0   \n",
              "                  Pandharpur Municipal Council  B                                    0   \n",
              "                  Sangola Municipal Council     C                                    0   \n",
              "                  Solapur Municipal Corporation D                                    0   \n",
              "All                                                                                 43   \n",
              "\n",
              "                                                                      \\\n",
              "                                                                       \n",
              "Service Name                                                           \n",
              "Reasons                                                  NOC Pending   \n",
              "Region   District ULB Name                      ULB Type               \n",
              "Amravati Akola    Akola Municipal Corporation   D                  0   \n",
              "                  Akot Municipal Council        B                  0   \n",
              "                  Balapur Municipal Council     C                  0   \n",
              "                  Murtizapur Municipal Council  C                  0   \n",
              "                  Patur Municipal Council       C                  0   \n",
              "...                                                              ...   \n",
              "Pune     Solapur  Mangalvedha Municipal Council C                  0   \n",
              "                  Pandharpur Municipal Council  B                  0   \n",
              "                  Sangola Municipal Council     C                  0   \n",
              "                  Solapur Municipal Corporation D                  0   \n",
              "All                                                                4   \n",
              "\n",
              "                                                                          \\\n",
              "                                                                           \n",
              "Service Name                                                               \n",
              "Reasons                                                  Payment Pending   \n",
              "Region   District ULB Name                      ULB Type                   \n",
              "Amravati Akola    Akola Municipal Corporation   D                      0   \n",
              "                  Akot Municipal Council        B                      0   \n",
              "                  Balapur Municipal Council     C                      0   \n",
              "                  Murtizapur Municipal Council  C                      0   \n",
              "                  Patur Municipal Council       C                      0   \n",
              "...                                                                  ...   \n",
              "Pune     Solapur  Mangalvedha Municipal Council C                      0   \n",
              "                  Pandharpur Municipal Council  B                      1   \n",
              "                  Sangola Municipal Council     C                      0   \n",
              "                  Solapur Municipal Corporation D                      0   \n",
              "All                                                                   47   \n",
              "\n",
              "                                                                              \\\n",
              "                                                                               \n",
              "Service Name                                                                   \n",
              "Reasons                                                  Proposal Reassigned   \n",
              "Region   District ULB Name                      ULB Type                       \n",
              "Amravati Akola    Akola Municipal Corporation   D                          0   \n",
              "                  Akot Municipal Council        B                          0   \n",
              "                  Balapur Municipal Council     C                          0   \n",
              "                  Murtizapur Municipal Council  C                          0   \n",
              "                  Patur Municipal Council       C                          0   \n",
              "...                                                                      ...   \n",
              "Pune     Solapur  Mangalvedha Municipal Council C                          0   \n",
              "                  Pandharpur Municipal Council  B                          2   \n",
              "                  Sangola Municipal Council     C                          1   \n",
              "                  Solapur Municipal Corporation D                          0   \n",
              "All                                                                       29   \n",
              "\n",
              "                                                                             \\\n",
              "                                                                              \n",
              "Service Name                                                                  \n",
              "Reasons                                                  Site Visit Pending   \n",
              "Region   District ULB Name                      ULB Type                      \n",
              "Amravati Akola    Akola Municipal Corporation   D                         0   \n",
              "                  Akot Municipal Council        B                         0   \n",
              "                  Balapur Municipal Council     C                         0   \n",
              "                  Murtizapur Municipal Council  C                         0   \n",
              "                  Patur Municipal Council       C                         0   \n",
              "...                                                                     ...   \n",
              "Pune     Solapur  Mangalvedha Municipal Council C                         0   \n",
              "                  Pandharpur Municipal Council  B                         5   \n",
              "                  Sangola Municipal Council     C                         0   \n",
              "                  Solapur Municipal Corporation D                         0   \n",
              "All                                                                      30   \n",
              "\n",
              "                                                                 \n",
              "                                                                 \n",
              "Service Name                                                All  \n",
              "Reasons                                                          \n",
              "Region   District ULB Name                      ULB Type         \n",
              "Amravati Akola    Akola Municipal Corporation   D           601  \n",
              "                  Akot Municipal Council        B            76  \n",
              "                  Balapur Municipal Council     C             4  \n",
              "                  Murtizapur Municipal Council  C             9  \n",
              "                  Patur Municipal Council       C             2  \n",
              "...                                                         ...  \n",
              "Pune     Solapur  Mangalvedha Municipal Council C            20  \n",
              "                  Pandharpur Municipal Council  B           119  \n",
              "                  Sangola Municipal Council     C            64  \n",
              "                  Solapur Municipal Corporation D           100  \n",
              "All                                                       15030  \n",
              "\n",
              "[239 rows x 35 columns]"
            ]
          },
          "metadata": {
            "tags": []
          },
          "execution_count": 18
        }
      ]
    },
    {
      "cell_type": "markdown",
      "metadata": {
        "id": "LowzShLFAh_A",
        "colab_type": "text"
      },
      "source": [
        "Saving the pivot table output in csv format"
      ]
    },
    {
      "cell_type": "code",
      "metadata": {
        "id": "TgGLLN5Q_MO0",
        "colab_type": "code",
        "colab": {}
      },
      "source": [
        "#To Download All Service Pendancy Report\n",
        "pivot_2.to_csv('All services Pendancy Report.csv') \n",
        "files.download('All services Pendancy Report.csv')"
      ],
      "execution_count": null,
      "outputs": []
    },
    {
      "cell_type": "markdown",
      "metadata": {
        "id": "vp4ARRQX6pQn",
        "colab_type": "text"
      },
      "source": [
        "#**Next Process of Final Output of Technical Person Registration Service Pendancy Report**"
      ]
    },
    {
      "cell_type": "markdown",
      "metadata": {
        "id": "HHD2ytWK7KUw",
        "colab_type": "text"
      },
      "source": [
        "###**Mearging \"Technical license registration request Pending from ULB Authority\" with \"Technical license registration request Pending from Technical Persons\"**"
      ]
    },
    {
      "cell_type": "code",
      "metadata": {
        "id": "jrSX18Kj1SX9",
        "colab_type": "code",
        "colab": {
          "base_uri": "https://localhost:8080/",
          "height": 374
        },
        "outputId": "c64144c0-861b-4168-cc54-3feaeb3d4e03"
      },
      "source": [
        "frames = [techulbpending2, techarchitectpending2]\n",
        "techliceregiservice = pd.concat(frames)\n",
        "techliceregiservice.info()"
      ],
      "execution_count": 20,
      "outputs": [
        {
          "output_type": "stream",
          "text": [
            "<class 'pandas.core.frame.DataFrame'>\n",
            "Int64Index: 5054 entries, 0 to 1667\n",
            "Data columns (total 14 columns):\n",
            " #   Column                     Non-Null Count  Dtype \n",
            "---  ------                     --------------  ----- \n",
            " 0   Proposal_Code              5054 non-null   int64 \n",
            " 1   Service_Name               5054 non-null   object\n",
            " 2   Sr No                      5054 non-null   int64 \n",
            " 3   Region                     5054 non-null   object\n",
            " 4   District                   5054 non-null   object\n",
            " 5   ULB Name                   5054 non-null   object\n",
            " 6   Technical Person Name      5054 non-null   object\n",
            " 7   Technical Person Category  5046 non-null   object\n",
            " 8   Pending From Name          3384 non-null   object\n",
            " 9   Designation                3384 non-null   object\n",
            " 10  Registration Date          5054 non-null   object\n",
            " 11  Days                       5054 non-null   int64 \n",
            " 12  Days-1                     5054 non-null   object\n",
            " 13  Reason                     5054 non-null   object\n",
            "dtypes: int64(3), object(11)\n",
            "memory usage: 592.3+ KB\n"
          ],
          "name": "stdout"
        }
      ]
    },
    {
      "cell_type": "markdown",
      "metadata": {
        "id": "_MTxvwiDp2Vf",
        "colab_type": "text"
      },
      "source": [
        "Here I am mearing the output of after merging two files with ulb type master file to get ULB Type"
      ]
    },
    {
      "cell_type": "code",
      "metadata": {
        "id": "yFGv0P2J8sfR",
        "colab_type": "code",
        "colab": {
          "base_uri": "https://localhost:8080/",
          "height": 340
        },
        "outputId": "3bffb888-64dd-4cc0-8a0c-d62c9bfda627"
      },
      "source": [
        "mearge_opA = pd.merge(ulbm,\n",
        "                 techliceregiservice[['Region', 'District', 'ULB Name', 'Proposal_Code', 'Service_Name', 'Registration Date', 'Days', 'Days-1', 'Reason']],\n",
        "                 on=['Region', 'District', 'ULB Name'])\n",
        "                \n",
        "mearge_opA.info()"
      ],
      "execution_count": 21,
      "outputs": [
        {
          "output_type": "stream",
          "text": [
            "<class 'pandas.core.frame.DataFrame'>\n",
            "Int64Index: 5054 entries, 0 to 5053\n",
            "Data columns (total 12 columns):\n",
            " #   Column             Non-Null Count  Dtype \n",
            "---  ------             --------------  ----- \n",
            " 0   Sr No              5054 non-null   int64 \n",
            " 1   Region             5054 non-null   object\n",
            " 2   District           5054 non-null   object\n",
            " 3   ULB Name           5054 non-null   object\n",
            " 4   ULB Type           5054 non-null   object\n",
            " 5   Live ULB           5054 non-null   object\n",
            " 6   Proposal_Code      5054 non-null   int64 \n",
            " 7   Service_Name       5054 non-null   object\n",
            " 8   Registration Date  5054 non-null   object\n",
            " 9   Days               5054 non-null   int64 \n",
            " 10  Days-1             5054 non-null   object\n",
            " 11  Reason             5054 non-null   object\n",
            "dtypes: int64(3), object(9)\n",
            "memory usage: 513.3+ KB\n"
          ],
          "name": "stdout"
        }
      ]
    },
    {
      "cell_type": "code",
      "metadata": {
        "id": "87i05Mp--Kq6",
        "colab_type": "code",
        "colab": {
          "base_uri": "https://localhost:8080/",
          "height": 173
        },
        "outputId": "9ea296d8-e565-4f46-eab7-f38ef3275ec9"
      },
      "source": [
        "meargeB = mearge_opA.groupby(['Reason']).agg({\"Proposal_Code\": pd.Series.nunique}).apply(list)\n",
        "meargeB"
      ],
      "execution_count": 22,
      "outputs": [
        {
          "output_type": "execute_result",
          "data": {
            "text/html": [
              "<div>\n",
              "<style scoped>\n",
              "    .dataframe tbody tr th:only-of-type {\n",
              "        vertical-align: middle;\n",
              "    }\n",
              "\n",
              "    .dataframe tbody tr th {\n",
              "        vertical-align: top;\n",
              "    }\n",
              "\n",
              "    .dataframe thead th {\n",
              "        text-align: right;\n",
              "    }\n",
              "</style>\n",
              "<table border=\"1\" class=\"dataframe\">\n",
              "  <thead>\n",
              "    <tr style=\"text-align: right;\">\n",
              "      <th></th>\n",
              "      <th>Proposal_Code</th>\n",
              "    </tr>\n",
              "    <tr>\n",
              "      <th>Reason</th>\n",
              "      <th></th>\n",
              "    </tr>\n",
              "  </thead>\n",
              "  <tbody>\n",
              "    <tr>\n",
              "      <th>Authority Pending</th>\n",
              "      <td>802</td>\n",
              "    </tr>\n",
              "    <tr>\n",
              "      <th>Document Reassigned</th>\n",
              "      <td>1668</td>\n",
              "    </tr>\n",
              "    <tr>\n",
              "      <th>Document verification Pending</th>\n",
              "      <td>2584</td>\n",
              "    </tr>\n",
              "  </tbody>\n",
              "</table>\n",
              "</div>"
            ],
            "text/plain": [
              "                               Proposal_Code\n",
              "Reason                                      \n",
              "Authority Pending                        802\n",
              "Document Reassigned                     1668\n",
              "Document verification Pending           2584"
            ]
          },
          "metadata": {
            "tags": []
          },
          "execution_count": 22
        }
      ]
    },
    {
      "cell_type": "markdown",
      "metadata": {
        "id": "ZNHZS-bhqNJC",
        "colab_type": "text"
      },
      "source": [
        "#**Final Output of Technical Person Registration Service Pendancy Report**"
      ]
    },
    {
      "cell_type": "code",
      "metadata": {
        "id": "coUzpG0Adojc",
        "colab_type": "code",
        "colab": {
          "base_uri": "https://localhost:8080/",
          "height": 662
        },
        "outputId": "d151f4a1-3a59-44b5-be41-5cf75d6cffdd"
      },
      "source": [
        "pivot_3=pd.pivot_table(mearge_opA,index=[\"Region\",\"District\",\"ULB Name\", \"ULB Type\"],values=[\"Proposal_Code\"],\n",
        "               columns=[\"Service_Name\", \"Reason\"],aggfunc=[len],fill_value=0,margins=True,dropna=True)\n",
        "pivot_3"
      ],
      "execution_count": 23,
      "outputs": [
        {
          "output_type": "execute_result",
          "data": {
            "text/html": [
              "<div>\n",
              "<style scoped>\n",
              "    .dataframe tbody tr th:only-of-type {\n",
              "        vertical-align: middle;\n",
              "    }\n",
              "\n",
              "    .dataframe tbody tr th {\n",
              "        vertical-align: top;\n",
              "    }\n",
              "\n",
              "    .dataframe thead tr th {\n",
              "        text-align: left;\n",
              "    }\n",
              "\n",
              "    .dataframe thead tr:last-of-type th {\n",
              "        text-align: right;\n",
              "    }\n",
              "</style>\n",
              "<table border=\"1\" class=\"dataframe\">\n",
              "  <thead>\n",
              "    <tr>\n",
              "      <th></th>\n",
              "      <th></th>\n",
              "      <th></th>\n",
              "      <th></th>\n",
              "      <th colspan=\"4\" halign=\"left\">len</th>\n",
              "    </tr>\n",
              "    <tr>\n",
              "      <th></th>\n",
              "      <th></th>\n",
              "      <th></th>\n",
              "      <th></th>\n",
              "      <th colspan=\"4\" halign=\"left\">Proposal_Code</th>\n",
              "    </tr>\n",
              "    <tr>\n",
              "      <th></th>\n",
              "      <th></th>\n",
              "      <th></th>\n",
              "      <th>Service_Name</th>\n",
              "      <th colspan=\"3\" halign=\"left\">Technical License Registration</th>\n",
              "      <th>All</th>\n",
              "    </tr>\n",
              "    <tr>\n",
              "      <th></th>\n",
              "      <th></th>\n",
              "      <th></th>\n",
              "      <th>Reason</th>\n",
              "      <th>Authority Pending</th>\n",
              "      <th>Document Reassigned</th>\n",
              "      <th>Document verification Pending</th>\n",
              "      <th></th>\n",
              "    </tr>\n",
              "    <tr>\n",
              "      <th>Region</th>\n",
              "      <th>District</th>\n",
              "      <th>ULB Name</th>\n",
              "      <th>ULB Type</th>\n",
              "      <th></th>\n",
              "      <th></th>\n",
              "      <th></th>\n",
              "      <th></th>\n",
              "    </tr>\n",
              "  </thead>\n",
              "  <tbody>\n",
              "    <tr>\n",
              "      <th rowspan=\"5\" valign=\"top\">Amravati</th>\n",
              "      <th rowspan=\"5\" valign=\"top\">Akola</th>\n",
              "      <th>Akola Municipal Corporation</th>\n",
              "      <th>D</th>\n",
              "      <td>18</td>\n",
              "      <td>73</td>\n",
              "      <td>9</td>\n",
              "      <td>100</td>\n",
              "    </tr>\n",
              "    <tr>\n",
              "      <th>Akot Municipal Council</th>\n",
              "      <th>B</th>\n",
              "      <td>3</td>\n",
              "      <td>8</td>\n",
              "      <td>19</td>\n",
              "      <td>30</td>\n",
              "    </tr>\n",
              "    <tr>\n",
              "      <th>Balapur Municipal Council</th>\n",
              "      <th>C</th>\n",
              "      <td>7</td>\n",
              "      <td>2</td>\n",
              "      <td>1</td>\n",
              "      <td>10</td>\n",
              "    </tr>\n",
              "    <tr>\n",
              "      <th>Murtizapur Municipal Council</th>\n",
              "      <th>C</th>\n",
              "      <td>2</td>\n",
              "      <td>0</td>\n",
              "      <td>12</td>\n",
              "      <td>14</td>\n",
              "    </tr>\n",
              "    <tr>\n",
              "      <th>Patur Municipal Council</th>\n",
              "      <th>C</th>\n",
              "      <td>3</td>\n",
              "      <td>0</td>\n",
              "      <td>7</td>\n",
              "      <td>10</td>\n",
              "    </tr>\n",
              "    <tr>\n",
              "      <th>...</th>\n",
              "      <th>...</th>\n",
              "      <th>...</th>\n",
              "      <th>...</th>\n",
              "      <td>...</td>\n",
              "      <td>...</td>\n",
              "      <td>...</td>\n",
              "      <td>...</td>\n",
              "    </tr>\n",
              "    <tr>\n",
              "      <th rowspan=\"4\" valign=\"top\">Pune</th>\n",
              "      <th rowspan=\"4\" valign=\"top\">Solapur</th>\n",
              "      <th>Mangalvedha Municipal Council</th>\n",
              "      <th>C</th>\n",
              "      <td>0</td>\n",
              "      <td>2</td>\n",
              "      <td>2</td>\n",
              "      <td>4</td>\n",
              "    </tr>\n",
              "    <tr>\n",
              "      <th>Pandharpur Municipal Council</th>\n",
              "      <th>B</th>\n",
              "      <td>7</td>\n",
              "      <td>12</td>\n",
              "      <td>8</td>\n",
              "      <td>27</td>\n",
              "    </tr>\n",
              "    <tr>\n",
              "      <th>Sangola Municipal Council</th>\n",
              "      <th>C</th>\n",
              "      <td>0</td>\n",
              "      <td>11</td>\n",
              "      <td>6</td>\n",
              "      <td>17</td>\n",
              "    </tr>\n",
              "    <tr>\n",
              "      <th>Solapur Municipal Corporation</th>\n",
              "      <th>D</th>\n",
              "      <td>12</td>\n",
              "      <td>46</td>\n",
              "      <td>17</td>\n",
              "      <td>75</td>\n",
              "    </tr>\n",
              "    <tr>\n",
              "      <th>All</th>\n",
              "      <th></th>\n",
              "      <th></th>\n",
              "      <th></th>\n",
              "      <td>802</td>\n",
              "      <td>1668</td>\n",
              "      <td>2584</td>\n",
              "      <td>5054</td>\n",
              "    </tr>\n",
              "  </tbody>\n",
              "</table>\n",
              "<p>241 rows × 4 columns</p>\n",
              "</div>"
            ],
            "text/plain": [
              "                                                                                    len  \\\n",
              "                                                                          Proposal_Code   \n",
              "Service_Name                                             Technical License Registration   \n",
              "Reason                                                                Authority Pending   \n",
              "Region   District ULB Name                      ULB Type                                  \n",
              "Amravati Akola    Akola Municipal Corporation   D                                    18   \n",
              "                  Akot Municipal Council        B                                     3   \n",
              "                  Balapur Municipal Council     C                                     7   \n",
              "                  Murtizapur Municipal Council  C                                     2   \n",
              "                  Patur Municipal Council       C                                     3   \n",
              "...                                                                                 ...   \n",
              "Pune     Solapur  Mangalvedha Municipal Council C                                     0   \n",
              "                  Pandharpur Municipal Council  B                                     7   \n",
              "                  Sangola Municipal Council     C                                     0   \n",
              "                  Solapur Municipal Corporation D                                    12   \n",
              "All                                                                                 802   \n",
              "\n",
              "                                                                              \\\n",
              "                                                                               \n",
              "Service_Name                                                                   \n",
              "Reason                                                   Document Reassigned   \n",
              "Region   District ULB Name                      ULB Type                       \n",
              "Amravati Akola    Akola Municipal Corporation   D                         73   \n",
              "                  Akot Municipal Council        B                          8   \n",
              "                  Balapur Municipal Council     C                          2   \n",
              "                  Murtizapur Municipal Council  C                          0   \n",
              "                  Patur Municipal Council       C                          0   \n",
              "...                                                                      ...   \n",
              "Pune     Solapur  Mangalvedha Municipal Council C                          2   \n",
              "                  Pandharpur Municipal Council  B                         12   \n",
              "                  Sangola Municipal Council     C                         11   \n",
              "                  Solapur Municipal Corporation D                         46   \n",
              "All                                                                     1668   \n",
              "\n",
              "                                                                                        \\\n",
              "                                                                                         \n",
              "Service_Name                                                                             \n",
              "Reason                                                   Document verification Pending   \n",
              "Region   District ULB Name                      ULB Type                                 \n",
              "Amravati Akola    Akola Municipal Corporation   D                                    9   \n",
              "                  Akot Municipal Council        B                                   19   \n",
              "                  Balapur Municipal Council     C                                    1   \n",
              "                  Murtizapur Municipal Council  C                                   12   \n",
              "                  Patur Municipal Council       C                                    7   \n",
              "...                                                                                ...   \n",
              "Pune     Solapur  Mangalvedha Municipal Council C                                    2   \n",
              "                  Pandharpur Municipal Council  B                                    8   \n",
              "                  Sangola Municipal Council     C                                    6   \n",
              "                  Solapur Municipal Corporation D                                   17   \n",
              "All                                                                               2584   \n",
              "\n",
              "                                                                \n",
              "                                                                \n",
              "Service_Name                                               All  \n",
              "Reason                                                          \n",
              "Region   District ULB Name                      ULB Type        \n",
              "Amravati Akola    Akola Municipal Corporation   D          100  \n",
              "                  Akot Municipal Council        B           30  \n",
              "                  Balapur Municipal Council     C           10  \n",
              "                  Murtizapur Municipal Council  C           14  \n",
              "                  Patur Municipal Council       C           10  \n",
              "...                                                        ...  \n",
              "Pune     Solapur  Mangalvedha Municipal Council C            4  \n",
              "                  Pandharpur Municipal Council  B           27  \n",
              "                  Sangola Municipal Council     C           17  \n",
              "                  Solapur Municipal Corporation D           75  \n",
              "All                                                       5054  \n",
              "\n",
              "[241 rows x 4 columns]"
            ]
          },
          "metadata": {
            "tags": []
          },
          "execution_count": 23
        }
      ]
    },
    {
      "cell_type": "markdown",
      "metadata": {
        "colab_type": "text",
        "id": "AsPETfhlArbO"
      },
      "source": [
        "Saving the pivot table output in csv format"
      ]
    },
    {
      "cell_type": "code",
      "metadata": {
        "id": "ECIl9zWo6Vrn",
        "colab_type": "code",
        "colab": {
          "base_uri": "https://localhost:8080/",
          "height": 17
        },
        "outputId": "d8c9dd4e-5875-4f0d-e06f-75e46303b00e"
      },
      "source": [
        "#To Download Technical Person Registration Service Pendancy Report\n",
        "pivot_3.to_csv('Technical Person Registration Service Pendancy Report.csv') \n",
        "files.download('Technical Person Registration Service Pendancy Report.csv')"
      ],
      "execution_count": 65,
      "outputs": [
        {
          "output_type": "display_data",
          "data": {
            "application/javascript": [
              "\n",
              "    async function download(id, filename, size) {\n",
              "      if (!google.colab.kernel.accessAllowed) {\n",
              "        return;\n",
              "      }\n",
              "      const div = document.createElement('div');\n",
              "      const label = document.createElement('label');\n",
              "      label.textContent = `Downloading \"${filename}\": `;\n",
              "      div.appendChild(label);\n",
              "      const progress = document.createElement('progress');\n",
              "      progress.max = size;\n",
              "      div.appendChild(progress);\n",
              "      document.body.appendChild(div);\n",
              "\n",
              "      const buffers = [];\n",
              "      let downloaded = 0;\n",
              "\n",
              "      const channel = await google.colab.kernel.comms.open(id);\n",
              "      // Send a message to notify the kernel that we're ready.\n",
              "      channel.send({})\n",
              "\n",
              "      for await (const message of channel.messages) {\n",
              "        // Send a message to notify the kernel that we're ready.\n",
              "        channel.send({})\n",
              "        if (message.buffers) {\n",
              "          for (const buffer of message.buffers) {\n",
              "            buffers.push(buffer);\n",
              "            downloaded += buffer.byteLength;\n",
              "            progress.value = downloaded;\n",
              "          }\n",
              "        }\n",
              "      }\n",
              "      const blob = new Blob(buffers, {type: 'application/binary'});\n",
              "      const a = document.createElement('a');\n",
              "      a.href = window.URL.createObjectURL(blob);\n",
              "      a.download = filename;\n",
              "      div.appendChild(a);\n",
              "      a.click();\n",
              "      div.remove();\n",
              "    }\n",
              "  "
            ],
            "text/plain": [
              "<IPython.core.display.Javascript object>"
            ]
          },
          "metadata": {
            "tags": []
          }
        },
        {
          "output_type": "display_data",
          "data": {
            "application/javascript": [
              "download(\"download_c3232bf2-a74c-4b9b-8e24-12885d794cab\", \"Technical Person Registration Service Pendancy Report.csv\", 13839)"
            ],
            "text/plain": [
              "<IPython.core.display.Javascript object>"
            ]
          },
          "metadata": {
            "tags": []
          }
        }
      ]
    },
    {
      "cell_type": "markdown",
      "metadata": {
        "id": "fUW0kbJ24ar3",
        "colab_type": "text"
      },
      "source": [
        "#**Process for Graph Data**"
      ]
    },
    {
      "cell_type": "markdown",
      "metadata": {
        "id": "oZKunvd44M1V",
        "colab_type": "text"
      },
      "source": [
        "##All services Pendancy Report Graph Data"
      ]
    },
    {
      "cell_type": "code",
      "metadata": {
        "id": "4pdeYHb0RFj3",
        "colab_type": "code",
        "colab": {}
      },
      "source": [
        "mearge_op.replace({'A':'ABC','B':'ABC','C':'ABC',}, inplace = True)\n",
        "DaysGroupMearge=mearge_op"
      ],
      "execution_count": 24,
      "outputs": []
    },
    {
      "cell_type": "code",
      "metadata": {
        "id": "nftaz_nBMDD_",
        "colab_type": "code",
        "colab": {
          "base_uri": "https://localhost:8080/",
          "height": 441
        },
        "outputId": "7b48bff5-2990-4e80-eb5e-6a42dcf5bec6"
      },
      "source": [
        "#mearge_opA\n",
        "DaysGroup_1=pd.pivot_table(DaysGroupMearge,index=[\"Service Name\"],values=[\"Proposal Code\"],\n",
        "               columns=[\"ULB Type\",\"Days-1\"],aggfunc=[len],fill_value=0,margins=True,dropna=True)\n",
        "DaysGroup_1"
      ],
      "execution_count": 25,
      "outputs": [
        {
          "output_type": "execute_result",
          "data": {
            "text/html": [
              "<div>\n",
              "<style scoped>\n",
              "    .dataframe tbody tr th:only-of-type {\n",
              "        vertical-align: middle;\n",
              "    }\n",
              "\n",
              "    .dataframe tbody tr th {\n",
              "        vertical-align: top;\n",
              "    }\n",
              "\n",
              "    .dataframe thead tr th {\n",
              "        text-align: left;\n",
              "    }\n",
              "\n",
              "    .dataframe thead tr:last-of-type th {\n",
              "        text-align: right;\n",
              "    }\n",
              "</style>\n",
              "<table border=\"1\" class=\"dataframe\">\n",
              "  <thead>\n",
              "    <tr>\n",
              "      <th></th>\n",
              "      <th colspan=\"15\" halign=\"left\">len</th>\n",
              "    </tr>\n",
              "    <tr>\n",
              "      <th></th>\n",
              "      <th colspan=\"15\" halign=\"left\">Proposal Code</th>\n",
              "    </tr>\n",
              "    <tr>\n",
              "      <th>ULB Type</th>\n",
              "      <th colspan=\"5\" halign=\"left\">ABC</th>\n",
              "      <th colspan=\"4\" halign=\"left\">ACORP</th>\n",
              "      <th colspan=\"5\" halign=\"left\">D</th>\n",
              "      <th>All</th>\n",
              "    </tr>\n",
              "    <tr>\n",
              "      <th>Days-1</th>\n",
              "      <th>0-7</th>\n",
              "      <th>16-30</th>\n",
              "      <th>31-45</th>\n",
              "      <th>Above 45</th>\n",
              "      <th>Aug-15</th>\n",
              "      <th>0-7</th>\n",
              "      <th>16-30</th>\n",
              "      <th>Above 45</th>\n",
              "      <th>Aug-15</th>\n",
              "      <th>0-7</th>\n",
              "      <th>16-30</th>\n",
              "      <th>31-45</th>\n",
              "      <th>Above 45</th>\n",
              "      <th>Aug-15</th>\n",
              "      <th></th>\n",
              "    </tr>\n",
              "    <tr>\n",
              "      <th>Service Name</th>\n",
              "      <th></th>\n",
              "      <th></th>\n",
              "      <th></th>\n",
              "      <th></th>\n",
              "      <th></th>\n",
              "      <th></th>\n",
              "      <th></th>\n",
              "      <th></th>\n",
              "      <th></th>\n",
              "      <th></th>\n",
              "      <th></th>\n",
              "      <th></th>\n",
              "      <th></th>\n",
              "      <th></th>\n",
              "      <th></th>\n",
              "    </tr>\n",
              "  </thead>\n",
              "  <tbody>\n",
              "    <tr>\n",
              "      <th>Building Permission</th>\n",
              "      <td>327</td>\n",
              "      <td>471</td>\n",
              "      <td>297</td>\n",
              "      <td>7134</td>\n",
              "      <td>423</td>\n",
              "      <td>1</td>\n",
              "      <td>2</td>\n",
              "      <td>228</td>\n",
              "      <td>3</td>\n",
              "      <td>179</td>\n",
              "      <td>203</td>\n",
              "      <td>86</td>\n",
              "      <td>3293</td>\n",
              "      <td>197</td>\n",
              "      <td>12844</td>\n",
              "    </tr>\n",
              "    <tr>\n",
              "      <th>Full Occupancy</th>\n",
              "      <td>17</td>\n",
              "      <td>16</td>\n",
              "      <td>11</td>\n",
              "      <td>286</td>\n",
              "      <td>33</td>\n",
              "      <td>0</td>\n",
              "      <td>0</td>\n",
              "      <td>0</td>\n",
              "      <td>0</td>\n",
              "      <td>2</td>\n",
              "      <td>0</td>\n",
              "      <td>0</td>\n",
              "      <td>20</td>\n",
              "      <td>2</td>\n",
              "      <td>387</td>\n",
              "    </tr>\n",
              "    <tr>\n",
              "      <th>Part Occupancy</th>\n",
              "      <td>5</td>\n",
              "      <td>1</td>\n",
              "      <td>1</td>\n",
              "      <td>73</td>\n",
              "      <td>4</td>\n",
              "      <td>0</td>\n",
              "      <td>0</td>\n",
              "      <td>0</td>\n",
              "      <td>0</td>\n",
              "      <td>0</td>\n",
              "      <td>0</td>\n",
              "      <td>0</td>\n",
              "      <td>7</td>\n",
              "      <td>0</td>\n",
              "      <td>91</td>\n",
              "    </tr>\n",
              "    <tr>\n",
              "      <th>Plinth Permission</th>\n",
              "      <td>36</td>\n",
              "      <td>29</td>\n",
              "      <td>20</td>\n",
              "      <td>877</td>\n",
              "      <td>34</td>\n",
              "      <td>0</td>\n",
              "      <td>0</td>\n",
              "      <td>1</td>\n",
              "      <td>0</td>\n",
              "      <td>20</td>\n",
              "      <td>14</td>\n",
              "      <td>5</td>\n",
              "      <td>347</td>\n",
              "      <td>9</td>\n",
              "      <td>1392</td>\n",
              "    </tr>\n",
              "    <tr>\n",
              "      <th>Renewal Building Permission</th>\n",
              "      <td>3</td>\n",
              "      <td>6</td>\n",
              "      <td>5</td>\n",
              "      <td>59</td>\n",
              "      <td>1</td>\n",
              "      <td>0</td>\n",
              "      <td>0</td>\n",
              "      <td>0</td>\n",
              "      <td>0</td>\n",
              "      <td>0</td>\n",
              "      <td>0</td>\n",
              "      <td>0</td>\n",
              "      <td>6</td>\n",
              "      <td>0</td>\n",
              "      <td>80</td>\n",
              "    </tr>\n",
              "    <tr>\n",
              "      <th>Revise Building Permission</th>\n",
              "      <td>8</td>\n",
              "      <td>12</td>\n",
              "      <td>10</td>\n",
              "      <td>138</td>\n",
              "      <td>12</td>\n",
              "      <td>0</td>\n",
              "      <td>0</td>\n",
              "      <td>1</td>\n",
              "      <td>0</td>\n",
              "      <td>7</td>\n",
              "      <td>4</td>\n",
              "      <td>0</td>\n",
              "      <td>40</td>\n",
              "      <td>4</td>\n",
              "      <td>236</td>\n",
              "    </tr>\n",
              "    <tr>\n",
              "      <th>All</th>\n",
              "      <td>396</td>\n",
              "      <td>535</td>\n",
              "      <td>344</td>\n",
              "      <td>8567</td>\n",
              "      <td>507</td>\n",
              "      <td>1</td>\n",
              "      <td>2</td>\n",
              "      <td>230</td>\n",
              "      <td>3</td>\n",
              "      <td>208</td>\n",
              "      <td>221</td>\n",
              "      <td>91</td>\n",
              "      <td>3713</td>\n",
              "      <td>212</td>\n",
              "      <td>15030</td>\n",
              "    </tr>\n",
              "  </tbody>\n",
              "</table>\n",
              "</div>"
            ],
            "text/plain": [
              "                                      len                                    \\\n",
              "                            Proposal Code                                     \n",
              "ULB Type                              ABC                             ACORP   \n",
              "Days-1                                0-7 16-30 31-45 Above 45 Aug-15   0-7   \n",
              "Service Name                                                                  \n",
              "Building Permission                   327   471   297     7134    423     1   \n",
              "Full Occupancy                         17    16    11      286     33     0   \n",
              "Part Occupancy                          5     1     1       73      4     0   \n",
              "Plinth Permission                      36    29    20      877     34     0   \n",
              "Renewal Building Permission             3     6     5       59      1     0   \n",
              "Revise Building Permission              8    12    10      138     12     0   \n",
              "All                                   396   535   344     8567    507     1   \n",
              "\n",
              "                                                                             \\\n",
              "                                                                              \n",
              "ULB Type                                             D                        \n",
              "Days-1                      16-30 Above 45 Aug-15  0-7 16-30 31-45 Above 45   \n",
              "Service Name                                                                  \n",
              "Building Permission             2      228      3  179   203    86     3293   \n",
              "Full Occupancy                  0        0      0    2     0     0       20   \n",
              "Part Occupancy                  0        0      0    0     0     0        7   \n",
              "Plinth Permission               0        1      0   20    14     5      347   \n",
              "Renewal Building Permission     0        0      0    0     0     0        6   \n",
              "Revise Building Permission      0        1      0    7     4     0       40   \n",
              "All                             2      230      3  208   221    91     3713   \n",
              "\n",
              "                                           \n",
              "                                           \n",
              "ULB Type                              All  \n",
              "Days-1                      Aug-15         \n",
              "Service Name                               \n",
              "Building Permission            197  12844  \n",
              "Full Occupancy                   2    387  \n",
              "Part Occupancy                   0     91  \n",
              "Plinth Permission                9   1392  \n",
              "Renewal Building Permission      0     80  \n",
              "Revise Building Permission       4    236  \n",
              "All                            212  15030  "
            ]
          },
          "metadata": {
            "tags": []
          },
          "execution_count": 25
        }
      ]
    },
    {
      "cell_type": "markdown",
      "metadata": {
        "id": "aa4reNLC4AzS",
        "colab_type": "text"
      },
      "source": [
        "##Technical Person Registration Service Pendancy Report Graph Data"
      ]
    },
    {
      "cell_type": "code",
      "metadata": {
        "id": "VqRVQ4bY2rSJ",
        "colab_type": "code",
        "colab": {}
      },
      "source": [
        "mearge_opA\n",
        "mearge_opA.replace({'A':'ABC','B':'ABC','C':'ABC',}, inplace = True)\n",
        "DaysGroupMearge1=mearge_opA"
      ],
      "execution_count": 26,
      "outputs": []
    },
    {
      "cell_type": "code",
      "metadata": {
        "id": "ignuD9mx21uo",
        "colab_type": "code",
        "colab": {
          "base_uri": "https://localhost:8080/",
          "height": 269
        },
        "outputId": "c1e1a97e-1c68-4abb-c859-e9c5c3485532"
      },
      "source": [
        "DaysGroup_2=pd.pivot_table(DaysGroupMearge1,index=[\"Service_Name\"],values=[\"Proposal_Code\"],\n",
        "               columns=[\"ULB Type\",\"Days-1\"],aggfunc=[len],fill_value=0,margins=True,dropna=True)\n",
        "DaysGroup_2"
      ],
      "execution_count": 27,
      "outputs": [
        {
          "output_type": "execute_result",
          "data": {
            "text/html": [
              "<div>\n",
              "<style scoped>\n",
              "    .dataframe tbody tr th:only-of-type {\n",
              "        vertical-align: middle;\n",
              "    }\n",
              "\n",
              "    .dataframe tbody tr th {\n",
              "        vertical-align: top;\n",
              "    }\n",
              "\n",
              "    .dataframe thead tr th {\n",
              "        text-align: left;\n",
              "    }\n",
              "\n",
              "    .dataframe thead tr:last-of-type th {\n",
              "        text-align: right;\n",
              "    }\n",
              "</style>\n",
              "<table border=\"1\" class=\"dataframe\">\n",
              "  <thead>\n",
              "    <tr>\n",
              "      <th></th>\n",
              "      <th colspan=\"16\" halign=\"left\">len</th>\n",
              "    </tr>\n",
              "    <tr>\n",
              "      <th></th>\n",
              "      <th colspan=\"16\" halign=\"left\">Proposal_Code</th>\n",
              "    </tr>\n",
              "    <tr>\n",
              "      <th>ULB Type</th>\n",
              "      <th colspan=\"5\" halign=\"left\">ABC</th>\n",
              "      <th colspan=\"5\" halign=\"left\">ACORP</th>\n",
              "      <th colspan=\"5\" halign=\"left\">D</th>\n",
              "      <th>All</th>\n",
              "    </tr>\n",
              "    <tr>\n",
              "      <th>Days-1</th>\n",
              "      <th>0-7</th>\n",
              "      <th>16-30</th>\n",
              "      <th>31-45</th>\n",
              "      <th>8-15</th>\n",
              "      <th>Above 45</th>\n",
              "      <th>0-7</th>\n",
              "      <th>16-30</th>\n",
              "      <th>31-45</th>\n",
              "      <th>8-15</th>\n",
              "      <th>Above 45</th>\n",
              "      <th>0-7</th>\n",
              "      <th>16-30</th>\n",
              "      <th>31-45</th>\n",
              "      <th>8-15</th>\n",
              "      <th>Above 45</th>\n",
              "      <th></th>\n",
              "    </tr>\n",
              "    <tr>\n",
              "      <th>Service_Name</th>\n",
              "      <th></th>\n",
              "      <th></th>\n",
              "      <th></th>\n",
              "      <th></th>\n",
              "      <th></th>\n",
              "      <th></th>\n",
              "      <th></th>\n",
              "      <th></th>\n",
              "      <th></th>\n",
              "      <th></th>\n",
              "      <th></th>\n",
              "      <th></th>\n",
              "      <th></th>\n",
              "      <th></th>\n",
              "      <th></th>\n",
              "      <th></th>\n",
              "    </tr>\n",
              "  </thead>\n",
              "  <tbody>\n",
              "    <tr>\n",
              "      <th>Technical License Registration</th>\n",
              "      <td>35</td>\n",
              "      <td>111</td>\n",
              "      <td>52</td>\n",
              "      <td>67</td>\n",
              "      <td>3454</td>\n",
              "      <td>2</td>\n",
              "      <td>5</td>\n",
              "      <td>1</td>\n",
              "      <td>6</td>\n",
              "      <td>153</td>\n",
              "      <td>12</td>\n",
              "      <td>25</td>\n",
              "      <td>6</td>\n",
              "      <td>31</td>\n",
              "      <td>1094</td>\n",
              "      <td>5054</td>\n",
              "    </tr>\n",
              "    <tr>\n",
              "      <th>All</th>\n",
              "      <td>35</td>\n",
              "      <td>111</td>\n",
              "      <td>52</td>\n",
              "      <td>67</td>\n",
              "      <td>3454</td>\n",
              "      <td>2</td>\n",
              "      <td>5</td>\n",
              "      <td>1</td>\n",
              "      <td>6</td>\n",
              "      <td>153</td>\n",
              "      <td>12</td>\n",
              "      <td>25</td>\n",
              "      <td>6</td>\n",
              "      <td>31</td>\n",
              "      <td>1094</td>\n",
              "      <td>5054</td>\n",
              "    </tr>\n",
              "  </tbody>\n",
              "</table>\n",
              "</div>"
            ],
            "text/plain": [
              "                                         len                                  \\\n",
              "                               Proposal_Code                                   \n",
              "ULB Type                                 ABC                           ACORP   \n",
              "Days-1                                   0-7 16-30 31-45 8-15 Above 45   0-7   \n",
              "Service_Name                                                                   \n",
              "Technical License Registration            35   111    52   67     3454     2   \n",
              "All                                       35   111    52   67     3454     2   \n",
              "\n",
              "                                                                               \\\n",
              "                                                                                \n",
              "ULB Type                                                   D                    \n",
              "Days-1                         16-30 31-45 8-15 Above 45 0-7 16-30 31-45 8-15   \n",
              "Service_Name                                                                    \n",
              "Technical License Registration     5     1    6      153  12    25     6   31   \n",
              "All                                5     1    6      153  12    25     6   31   \n",
              "\n",
              "                                               \n",
              "                                               \n",
              "ULB Type                                  All  \n",
              "Days-1                         Above 45        \n",
              "Service_Name                                   \n",
              "Technical License Registration     1094  5054  \n",
              "All                                1094  5054  "
            ]
          },
          "metadata": {
            "tags": []
          },
          "execution_count": 27
        }
      ]
    },
    {
      "cell_type": "code",
      "metadata": {
        "id": "2ci82ZIoVY3p",
        "colab_type": "code",
        "colab": {
          "base_uri": "https://localhost:8080/",
          "height": 17
        },
        "outputId": "1593146d-e804-4acb-e8e0-5533cfe9c5cf"
      },
      "source": [
        "#To Download Days Grops Data For Graph\n",
        "DaysGroup_1.to_csv('ULB_Days_Grp.csv') \n",
        "files.download('ULB_Days_Grp.csv')\n",
        "\n",
        "DaysGroup_2.to_csv('Arch_Days_Grp.csv') \n",
        "files.download('Arch_Days_Grp.csv')"
      ],
      "execution_count": 78,
      "outputs": [
        {
          "output_type": "display_data",
          "data": {
            "application/javascript": [
              "\n",
              "    async function download(id, filename, size) {\n",
              "      if (!google.colab.kernel.accessAllowed) {\n",
              "        return;\n",
              "      }\n",
              "      const div = document.createElement('div');\n",
              "      const label = document.createElement('label');\n",
              "      label.textContent = `Downloading \"${filename}\": `;\n",
              "      div.appendChild(label);\n",
              "      const progress = document.createElement('progress');\n",
              "      progress.max = size;\n",
              "      div.appendChild(progress);\n",
              "      document.body.appendChild(div);\n",
              "\n",
              "      const buffers = [];\n",
              "      let downloaded = 0;\n",
              "\n",
              "      const channel = await google.colab.kernel.comms.open(id);\n",
              "      // Send a message to notify the kernel that we're ready.\n",
              "      channel.send({})\n",
              "\n",
              "      for await (const message of channel.messages) {\n",
              "        // Send a message to notify the kernel that we're ready.\n",
              "        channel.send({})\n",
              "        if (message.buffers) {\n",
              "          for (const buffer of message.buffers) {\n",
              "            buffers.push(buffer);\n",
              "            downloaded += buffer.byteLength;\n",
              "            progress.value = downloaded;\n",
              "          }\n",
              "        }\n",
              "      }\n",
              "      const blob = new Blob(buffers, {type: 'application/binary'});\n",
              "      const a = document.createElement('a');\n",
              "      a.href = window.URL.createObjectURL(blob);\n",
              "      a.download = filename;\n",
              "      div.appendChild(a);\n",
              "      a.click();\n",
              "      div.remove();\n",
              "    }\n",
              "  "
            ],
            "text/plain": [
              "<IPython.core.display.Javascript object>"
            ]
          },
          "metadata": {
            "tags": []
          }
        },
        {
          "output_type": "display_data",
          "data": {
            "application/javascript": [
              "download(\"download_821c17dd-9cba-45eb-94cd-b9a4c4b97ca6\", \"ULB_Days_Grp.csv\", 890)"
            ],
            "text/plain": [
              "<IPython.core.display.Javascript object>"
            ]
          },
          "metadata": {
            "tags": []
          }
        },
        {
          "output_type": "display_data",
          "data": {
            "application/javascript": [
              "\n",
              "    async function download(id, filename, size) {\n",
              "      if (!google.colab.kernel.accessAllowed) {\n",
              "        return;\n",
              "      }\n",
              "      const div = document.createElement('div');\n",
              "      const label = document.createElement('label');\n",
              "      label.textContent = `Downloading \"${filename}\": `;\n",
              "      div.appendChild(label);\n",
              "      const progress = document.createElement('progress');\n",
              "      progress.max = size;\n",
              "      div.appendChild(progress);\n",
              "      document.body.appendChild(div);\n",
              "\n",
              "      const buffers = [];\n",
              "      let downloaded = 0;\n",
              "\n",
              "      const channel = await google.colab.kernel.comms.open(id);\n",
              "      // Send a message to notify the kernel that we're ready.\n",
              "      channel.send({})\n",
              "\n",
              "      for await (const message of channel.messages) {\n",
              "        // Send a message to notify the kernel that we're ready.\n",
              "        channel.send({})\n",
              "        if (message.buffers) {\n",
              "          for (const buffer of message.buffers) {\n",
              "            buffers.push(buffer);\n",
              "            downloaded += buffer.byteLength;\n",
              "            progress.value = downloaded;\n",
              "          }\n",
              "        }\n",
              "      }\n",
              "      const blob = new Blob(buffers, {type: 'application/binary'});\n",
              "      const a = document.createElement('a');\n",
              "      a.href = window.URL.createObjectURL(blob);\n",
              "      a.download = filename;\n",
              "      div.appendChild(a);\n",
              "      a.click();\n",
              "      div.remove();\n",
              "    }\n",
              "  "
            ],
            "text/plain": [
              "<IPython.core.display.Javascript object>"
            ]
          },
          "metadata": {
            "tags": []
          }
        },
        {
          "output_type": "display_data",
          "data": {
            "application/javascript": [
              "download(\"download_7ebe4d8a-9286-45da-bd03-515bfd3d9286\", \"Arch_Days_Grp.csv\", 627)"
            ],
            "text/plain": [
              "<IPython.core.display.Javascript object>"
            ]
          },
          "metadata": {
            "tags": []
          }
        }
      ]
    },
    {
      "cell_type": "markdown",
      "metadata": {
        "id": "pDkhDsVd5y9K",
        "colab_type": "text"
      },
      "source": [
        "#**Saperation for Services vise Details Report**"
      ]
    },
    {
      "cell_type": "markdown",
      "metadata": {
        "id": "kUTH3668GoFB",
        "colab_type": "text"
      },
      "source": [
        "##**Pendecy Report Service vise Details of Pending from ULB Authority**"
      ]
    },
    {
      "cell_type": "code",
      "metadata": {
        "id": "dbhYHKIa_qpN",
        "colab_type": "code",
        "colab": {}
      },
      "source": [
        "ulbpending1 = pd.merge(ulbm,\n",
        "                 ulbpending[['Region', 'District', 'ULB Name', 'Proposal Code', 'Service Name', 'Technical Person Name',\n",
        "                             'Technical Person Category','Pending By','Designation','Application Received Date',\n",
        "                             'Days','Reasons']],\n",
        "                 on=['Region', 'District', 'ULB Name'])               \n",
        "#ulbpending1.info()"
      ],
      "execution_count": 30,
      "outputs": []
    },
    {
      "cell_type": "code",
      "metadata": {
        "id": "07vMQMTA0W03",
        "colab_type": "code",
        "colab": {}
      },
      "source": [
        "ServiceName1 = ulbpending1\n",
        "ServiceName = ServiceName1.set_index('Service Name')\n",
        "#ServiceName.info()"
      ],
      "execution_count": 31,
      "outputs": []
    },
    {
      "cell_type": "code",
      "metadata": {
        "id": "3hdhTA7K0NjV",
        "colab_type": "code",
        "colab": {
          "base_uri": "https://localhost:8080/",
          "height": 68
        },
        "outputId": "2aad4575-8f96-4a60-c144-1f3acb2ab53f"
      },
      "source": [
        "ulbpending1['Service Name'].unique()"
      ],
      "execution_count": 32,
      "outputs": [
        {
          "output_type": "execute_result",
          "data": {
            "text/plain": [
              "array(['Building Permission', 'Revise Building Permission',\n",
              "       'Plinth Permission', 'Full Occupancy',\n",
              "       'Renewal Building Permission', 'Part Occupancy'], dtype=object)"
            ]
          },
          "metadata": {
            "tags": []
          },
          "execution_count": 32
        }
      ]
    },
    {
      "cell_type": "code",
      "metadata": {
        "id": "ijzmqmEn3xDg",
        "colab_type": "code",
        "colab": {
          "base_uri": "https://localhost:8080/",
          "height": 119
        },
        "outputId": "3d40782a-a3f0-4a8a-f64a-996a84a40b30"
      },
      "source": [
        "#@ Building_Permission type ULB\n",
        "BPULB = ServiceName.loc[\"Building Permission\"]  \n",
        "print(type(BPULB))\n",
        "BPULB\n",
        "BPULB1=BPULB\n",
        "Building_Permission_ULB = BPULB1.reset_index(level='Service Name')\n",
        "# Building_Permission_ULB\n",
        "\n",
        "\n",
        "#@ Full_Occupancy type ULB\n",
        "FOCULB = ServiceName.loc[\"Full Occupancy\"]  \n",
        "print(type(FOCULB))\n",
        "FOCULB\n",
        "FOCULB1=FOCULB\n",
        "Full_Occupancy_ULB = FOCULB1.reset_index(level='Service Name')\n",
        "# Full_Occupancy_ULB\n",
        "\n",
        "\n",
        "#@ Part_Occupancy\t type ULB\n",
        "POCULB = ServiceName.loc[\"Part Occupancy\"]  \n",
        "print(type(POCULB))\n",
        "POCULB\n",
        "POCULB1=POCULB\n",
        "Part_Occupancy_ULB = POCULB1.reset_index(level='Service Name')\n",
        "# Part_Occupancy_ULB\n",
        "\n",
        "\n",
        "#@ Plinth_Permission type ULB\n",
        "PPULB = ServiceName.loc[\"Plinth Permission\"]  \n",
        "print(type(PPULB))\n",
        "PPULB\n",
        "PPULB1=PPULB\n",
        "Plinth_Permission_ULB = PPULB1.reset_index(level='Service Name')\n",
        "# Plinth_Permission_ULB\n",
        "\n",
        "\n",
        "#@ Renewal_Building_Permission type ULB\n",
        "RBPULB = ServiceName.loc[\"Renewal Building Permission\"]  \n",
        "print(type(RBPULB))\n",
        "RBPULB\n",
        "RBPULB1=RBPULB\n",
        "Renewal_Building_Permission_ULB = RBPULB1.reset_index(level='Service Name')\n",
        "# Renewal_Building_Permission_ULB\n",
        "\n",
        "\n",
        "#@ Revise_Building_Permission type ULB\n",
        "RVBPULB = ServiceName.loc[\"Revise Building Permission\"]  \n",
        "print(type(RVBPULB))\n",
        "RVBPULB\n",
        "RVBPULB1=RVBPULB\n",
        "Revise_Building_Permission_ULB = RVBPULB1.reset_index(level='Service Name')\n",
        "#Revise_Building_Permission_ULB"
      ],
      "execution_count": 33,
      "outputs": [
        {
          "output_type": "stream",
          "text": [
            "<class 'pandas.core.frame.DataFrame'>\n",
            "<class 'pandas.core.frame.DataFrame'>\n",
            "<class 'pandas.core.frame.DataFrame'>\n",
            "<class 'pandas.core.frame.DataFrame'>\n",
            "<class 'pandas.core.frame.DataFrame'>\n",
            "<class 'pandas.core.frame.DataFrame'>\n"
          ],
          "name": "stdout"
        }
      ]
    },
    {
      "cell_type": "code",
      "metadata": {
        "id": "aoPHUrhg-4v3",
        "colab_type": "code",
        "colab": {}
      },
      "source": [
        "Building_Permission_ULB.to_csv('Building_Permission_ULB.csv') \n",
        "files.download('Building_Permission_ULB.csv')\n",
        "\n",
        "Full_Occupancy_ULB.to_csv('Full_Occupancy_ULB.csv') \n",
        "files.download('Full_Occupancy_ULB.csv')\n",
        "\n",
        "Part_Occupancy_ULB.to_csv('Part_Occupancy_ULB.csv') \n",
        "files.download('Part_Occupancy_ULB.csv')\n",
        "\n",
        "Plinth_Permission_ULB.to_csv('Plinth_Permission_ULB.csv') \n",
        "files.download('Plinth_Permission_ULB.csv')\n",
        "\n",
        "Renewal_Building_Permission_ULB.to_csv('Renewal_Building_Permission_ULB.csv') \n",
        "files.download('Renewal_Building_Permission_ULB.csv')\n",
        "\n",
        "Revise_Building_Permission_ULB.to_csv('Revise_Building_Permission_ULB.csv') \n",
        "files.download('Revise_Building_Permission_ULB.csv')"
      ],
      "execution_count": null,
      "outputs": []
    },
    {
      "cell_type": "markdown",
      "metadata": {
        "id": "x7QC5hrDIwb9",
        "colab_type": "text"
      },
      "source": [
        "##**Pendecy Report of Pending from Technical Persons**"
      ]
    },
    {
      "cell_type": "code",
      "metadata": {
        "id": "ZyJ7pCYgL4uS",
        "colab_type": "code",
        "colab": {
          "base_uri": "https://localhost:8080/",
          "height": 357
        },
        "outputId": "d5ab5c27-d45c-4446-e41d-cd431f84b124"
      },
      "source": [
        "architectpending1 = pd.merge(ulbm,\n",
        "                 architectpending[['Region', 'District', 'ULB Name', 'Proposal Code', 'Service Name', 'Technical Person Name',\n",
        "                             'Technical Person Category','Application Received Date',\n",
        "                             'Days','Reasons']],\n",
        "                 on=['Region', 'District', 'ULB Name'])               \n",
        "architectpending1.info()"
      ],
      "execution_count": 52,
      "outputs": [
        {
          "output_type": "stream",
          "text": [
            "<class 'pandas.core.frame.DataFrame'>\n",
            "Int64Index: 8707 entries, 0 to 8706\n",
            "Data columns (total 13 columns):\n",
            " #   Column                     Non-Null Count  Dtype \n",
            "---  ------                     --------------  ----- \n",
            " 0   Sr No                      8707 non-null   int64 \n",
            " 1   Region                     8707 non-null   object\n",
            " 2   District                   8707 non-null   object\n",
            " 3   ULB Name                   8707 non-null   object\n",
            " 4   ULB Type                   8707 non-null   object\n",
            " 5   Live ULB                   8707 non-null   object\n",
            " 6   Proposal Code              8707 non-null   object\n",
            " 7   Service Name               8707 non-null   object\n",
            " 8   Technical Person Name      8703 non-null   object\n",
            " 9   Technical Person Category  8702 non-null   object\n",
            " 10  Application Received Date  8707 non-null   object\n",
            " 11  Days                       8707 non-null   int64 \n",
            " 12  Reasons                    8707 non-null   object\n",
            "dtypes: int64(2), object(11)\n",
            "memory usage: 952.3+ KB\n"
          ],
          "name": "stdout"
        }
      ]
    },
    {
      "cell_type": "code",
      "metadata": {
        "id": "HX45ea7LMnGB",
        "colab_type": "code",
        "colab": {}
      },
      "source": [
        "ServiceName2 = architectpending1\n",
        "ServiceNameA = ServiceName2.set_index('Service Name')\n",
        "#ServiceNameA.info()"
      ],
      "execution_count": 37,
      "outputs": []
    },
    {
      "cell_type": "code",
      "metadata": {
        "id": "JaVyPU16NLP0",
        "colab_type": "code",
        "colab": {
          "base_uri": "https://localhost:8080/",
          "height": 68
        },
        "outputId": "aeeff1f3-bba8-45bc-f695-8909f4f77138"
      },
      "source": [
        "architectpending1['Service Name'].unique()"
      ],
      "execution_count": 38,
      "outputs": [
        {
          "output_type": "execute_result",
          "data": {
            "text/plain": [
              "array(['Building Permission', 'Plinth Permission',\n",
              "       'Revise Building Permission', 'Full Occupancy', 'Part Occupancy',\n",
              "       'Renewal Building Permission'], dtype=object)"
            ]
          },
          "metadata": {
            "tags": []
          },
          "execution_count": 38
        }
      ]
    },
    {
      "cell_type": "code",
      "metadata": {
        "id": "cmDXaMhHNZPZ",
        "colab_type": "code",
        "colab": {
          "base_uri": "https://localhost:8080/",
          "height": 119
        },
        "outputId": "287d0ece-4f18-48cd-90e4-071f79ac1fdf"
      },
      "source": [
        "#@ Building_Permission type ULB\n",
        "BPARCH = ServiceNameA.loc[\"Building Permission\"]  \n",
        "print(type(BPARCH))\n",
        "BPARCH\n",
        "BPARCH1=BPARCH\n",
        "Building_Permission_ARCH = BPARCH1.reset_index(level='Service Name')\n",
        "# Building_Permission_ARCH\n",
        "\n",
        "\n",
        "#@ Full_Occupancy type ULB\n",
        "FOCARCH = ServiceNameA.loc[\"Full Occupancy\"]  \n",
        "print(type(FOCARCH))\n",
        "FOCARCH\n",
        "FOCARCH1=FOCARCH\n",
        "Full_Occupancy_ARCH = FOCARCH1.reset_index(level='Service Name')\n",
        "# Full_Occupancy_ARCH\n",
        "\n",
        "\n",
        "#@ Part_Occupancy\t type ULB\n",
        "POCARCH = ServiceNameA.loc[\"Part Occupancy\"]  \n",
        "print(type(POCARCH))\n",
        "POCARCH\n",
        "POCARCH1=POCARCH\n",
        "Part_Occupancy_ARCH = POCARCH1.reset_index(level='Service Name')\n",
        "# Part_Occupancy_ARCH\n",
        "\n",
        "\n",
        "#@ Plinth_Permission type ULB\n",
        "PPARCH = ServiceNameA.loc[\"Plinth Permission\"]  \n",
        "print(type(PPARCH))\n",
        "PPARCH\n",
        "PPARCH1=PPARCH\n",
        "Plinth_Permission_ARCH = PPARCH1.reset_index(level='Service Name')\n",
        "# Plinth_Permission_ARCH\n",
        "\n",
        "\n",
        "#@ Renewal_Building_Permission type ULB\n",
        "RBPARCH = ServiceNameA.loc[\"Renewal Building Permission\"]  \n",
        "print(type(RBPARCH))\n",
        "RBPARCH\n",
        "RBPARCH1=RBPARCH\n",
        "Renewal_Building_Permission_ARCH = RBPARCH1.reset_index(level='Service Name')\n",
        "# Renewal_Building_Permission_ARCH\n",
        "\n",
        "\n",
        "#@ Revise_Building_Permission type ULB\n",
        "RVBPARCH = ServiceNameA.loc[\"Revise Building Permission\"]  \n",
        "print(type(RVBPARCH))\n",
        "RVBPARCH\n",
        "RVBPARCH1=RVBPARCH\n",
        "Revise_Building_Permission_ARCH = RVBPARCH1.reset_index(level='Service Name')\n",
        "#Revise_Building_Permission_ARCH"
      ],
      "execution_count": 43,
      "outputs": [
        {
          "output_type": "stream",
          "text": [
            "<class 'pandas.core.frame.DataFrame'>\n",
            "<class 'pandas.core.frame.DataFrame'>\n",
            "<class 'pandas.core.frame.DataFrame'>\n",
            "<class 'pandas.core.frame.DataFrame'>\n",
            "<class 'pandas.core.frame.DataFrame'>\n",
            "<class 'pandas.core.frame.DataFrame'>\n"
          ],
          "name": "stdout"
        }
      ]
    },
    {
      "cell_type": "code",
      "metadata": {
        "id": "a2Sm1xEAUk73",
        "colab_type": "code",
        "colab": {}
      },
      "source": [
        "Building_Permission_ARCH.to_csv('Building_Permission_ARCH.csv') \n",
        "files.download('Building_Permission_ARCH.csv')\n",
        "\n",
        "Full_Occupancy_ARCH.to_csv('Full_Occupancy_ARCH.csv') \n",
        "files.download('Full_Occupancy_ARCH.csv')\n",
        "\n",
        "Part_Occupancy_ARCH.to_csv('Part_Occupancy_ARCH.csv') \n",
        "files.download('Part_Occupancy_ARCH.csv')\n",
        "\n",
        "Plinth_Permission_ARCH.to_csv('Plinth_Permission_ARCH.csv') \n",
        "files.download('Plinth_Permission_ARCH.csv')\n",
        "\n",
        "Renewal_Building_Permission_ARCH.to_csv('Renewal_Building_Permission_ARCH.csv') \n",
        "files.download('Renewal_Building_Permission_ARCH.csv')\n",
        "\n",
        "Revise_Building_Permission_ARCH.to_csv('Revise_Building_Permission_ARCH.csv') \n",
        "files.download('Revise_Building_Permission_ARCH.csv')"
      ],
      "execution_count": null,
      "outputs": []
    },
    {
      "cell_type": "markdown",
      "metadata": {
        "id": "zQcXE6dS0Jsa",
        "colab_type": "text"
      },
      "source": [
        "#Pending Days"
      ]
    },
    {
      "cell_type": "code",
      "metadata": {
        "id": "6CaRXF184jQD",
        "colab_type": "code",
        "colab": {}
      },
      "source": [
        "B_P = [Building_Permission_ULB, Building_Permission_ARCH]\n",
        "BP = pd.concat(B_P)\n",
        "#BP.info()\n",
        "s=30\n",
        "Building_Permission = BP[BP['Days'] <= s]\n",
        "Building_Permission.info()\n",
        "\n",
        "F_C = [Full_Occupancy_ULB, Full_Occupancy_ARCH]\n",
        "FC = pd.concat(F_C)\n",
        "#FC.info()\n",
        "s=8\n",
        "Full_Occupancy = FC[FC['Days'] <= s]\n",
        "Full_Occupancy.info()\n",
        "\n",
        "P_O = [Part_Occupancy_ULB, Part_Occupancy_ARCH]\n",
        "PO = pd.concat(P_O)\n",
        "#PO.info()\n",
        "s=8\n",
        "Part_Occupancy = PO[PO['Days'] <= s]\n",
        "Part_Occupancy.info()\n",
        "\n",
        "P_P = [Plinth_Permission_ULB, Plinth_Permission_ARCH]\n",
        "PP = pd.concat(P_P)\n",
        "#PP.info()\n",
        "s=7\n",
        "Plinth_Permission = PP[PP['Days'] <= s]\n",
        "Plinth_Permission.info()\n",
        "\n",
        "R_N_B_P = [Renewal_Building_Permission_ULB, Renewal_Building_Permission_ARCH]\n",
        "RNBP = pd.concat(R_N_B_P)\n",
        "#RNBP.info()\n",
        "s=8\n",
        "Renewal_Building_Permission = RNBP[RNBP['Days'] <= s]\n",
        "Renewal_Building_Permission.info()\n",
        "\n",
        "R_B_P = [Revise_Building_Permission_ULB, Revise_Building_Permission_ARCH]\n",
        "RBP = pd.concat(R_B_P)\n",
        "#RBP.info()\n",
        "s=30\n",
        "Revise_Building_Permission = RBP[RBP['Days'] <= s]\n",
        "Revise_Building_Permission.info()\n",
        "\n",
        "TP=techliceregiservice\n",
        "#TP.info()\n",
        "s=15\n",
        "Technical_Person_Registration = TP[TP['Days'] <= s]\n",
        "Technical_Person_Registration.info()"
      ],
      "execution_count": null,
      "outputs": []
    },
    {
      "cell_type": "code",
      "metadata": {
        "id": "nXjFlVK_Aedi",
        "colab_type": "code",
        "colab": {
          "base_uri": "https://localhost:8080/",
          "height": 17
        },
        "outputId": "ab83740a-62a3-466c-e7d7-bdfcb76ae0cc"
      },
      "source": [
        "Building_Permission.to_csv('Building_Permission.csv') \n",
        "files.download('Building_Permission.csv')\n",
        "\n",
        "Full_Occupancy.to_csv('Full_Occupancy.csv') \n",
        "files.download('Full_Occupancy.csv')\n",
        "\n",
        "Part_Occupancy.to_csv('Part_Occupancy.csv') \n",
        "files.download('Part_Occupancy.csv')\n",
        "\n",
        "Plinth_Permission.to_csv('Plinth_Permission.csv') \n",
        "files.download('Plinth_Permission.csv')\n",
        "\n",
        "Renewal_Building_Permission.to_csv('Renewal_Building_Permission.csv') \n",
        "files.download('Renewal_Building_Permission.csv')\n",
        "\n",
        "Revise_Building_Permission.to_csv('Revise_Building_Permission.csv') \n",
        "files.download('Revise_Building_Permission.csv')\n",
        "\n",
        "Technical_Person_Registration.to_csv('Technical_Person_Registration.csv') \n",
        "files.download('Technical_Person_Registration.csv')"
      ],
      "execution_count": 70,
      "outputs": [
        {
          "output_type": "display_data",
          "data": {
            "application/javascript": [
              "\n",
              "    async function download(id, filename, size) {\n",
              "      if (!google.colab.kernel.accessAllowed) {\n",
              "        return;\n",
              "      }\n",
              "      const div = document.createElement('div');\n",
              "      const label = document.createElement('label');\n",
              "      label.textContent = `Downloading \"${filename}\": `;\n",
              "      div.appendChild(label);\n",
              "      const progress = document.createElement('progress');\n",
              "      progress.max = size;\n",
              "      div.appendChild(progress);\n",
              "      document.body.appendChild(div);\n",
              "\n",
              "      const buffers = [];\n",
              "      let downloaded = 0;\n",
              "\n",
              "      const channel = await google.colab.kernel.comms.open(id);\n",
              "      // Send a message to notify the kernel that we're ready.\n",
              "      channel.send({})\n",
              "\n",
              "      for await (const message of channel.messages) {\n",
              "        // Send a message to notify the kernel that we're ready.\n",
              "        channel.send({})\n",
              "        if (message.buffers) {\n",
              "          for (const buffer of message.buffers) {\n",
              "            buffers.push(buffer);\n",
              "            downloaded += buffer.byteLength;\n",
              "            progress.value = downloaded;\n",
              "          }\n",
              "        }\n",
              "      }\n",
              "      const blob = new Blob(buffers, {type: 'application/binary'});\n",
              "      const a = document.createElement('a');\n",
              "      a.href = window.URL.createObjectURL(blob);\n",
              "      a.download = filename;\n",
              "      div.appendChild(a);\n",
              "      a.click();\n",
              "      div.remove();\n",
              "    }\n",
              "  "
            ],
            "text/plain": [
              "<IPython.core.display.Javascript object>"
            ]
          },
          "metadata": {
            "tags": []
          }
        },
        {
          "output_type": "display_data",
          "data": {
            "application/javascript": [
              "download(\"download_9204c4f3-876b-4c1b-bd1f-1304f23f13b3\", \"Building_Permission.csv\", 342418)"
            ],
            "text/plain": [
              "<IPython.core.display.Javascript object>"
            ]
          },
          "metadata": {
            "tags": []
          }
        },
        {
          "output_type": "display_data",
          "data": {
            "application/javascript": [
              "\n",
              "    async function download(id, filename, size) {\n",
              "      if (!google.colab.kernel.accessAllowed) {\n",
              "        return;\n",
              "      }\n",
              "      const div = document.createElement('div');\n",
              "      const label = document.createElement('label');\n",
              "      label.textContent = `Downloading \"${filename}\": `;\n",
              "      div.appendChild(label);\n",
              "      const progress = document.createElement('progress');\n",
              "      progress.max = size;\n",
              "      div.appendChild(progress);\n",
              "      document.body.appendChild(div);\n",
              "\n",
              "      const buffers = [];\n",
              "      let downloaded = 0;\n",
              "\n",
              "      const channel = await google.colab.kernel.comms.open(id);\n",
              "      // Send a message to notify the kernel that we're ready.\n",
              "      channel.send({})\n",
              "\n",
              "      for await (const message of channel.messages) {\n",
              "        // Send a message to notify the kernel that we're ready.\n",
              "        channel.send({})\n",
              "        if (message.buffers) {\n",
              "          for (const buffer of message.buffers) {\n",
              "            buffers.push(buffer);\n",
              "            downloaded += buffer.byteLength;\n",
              "            progress.value = downloaded;\n",
              "          }\n",
              "        }\n",
              "      }\n",
              "      const blob = new Blob(buffers, {type: 'application/binary'});\n",
              "      const a = document.createElement('a');\n",
              "      a.href = window.URL.createObjectURL(blob);\n",
              "      a.download = filename;\n",
              "      div.appendChild(a);\n",
              "      a.click();\n",
              "      div.remove();\n",
              "    }\n",
              "  "
            ],
            "text/plain": [
              "<IPython.core.display.Javascript object>"
            ]
          },
          "metadata": {
            "tags": []
          }
        },
        {
          "output_type": "display_data",
          "data": {
            "application/javascript": [
              "download(\"download_d8b21a80-6b36-402a-b3d0-36f93add9d6c\", \"Full_Occupancy.csv\", 4229)"
            ],
            "text/plain": [
              "<IPython.core.display.Javascript object>"
            ]
          },
          "metadata": {
            "tags": []
          }
        },
        {
          "output_type": "display_data",
          "data": {
            "application/javascript": [
              "\n",
              "    async function download(id, filename, size) {\n",
              "      if (!google.colab.kernel.accessAllowed) {\n",
              "        return;\n",
              "      }\n",
              "      const div = document.createElement('div');\n",
              "      const label = document.createElement('label');\n",
              "      label.textContent = `Downloading \"${filename}\": `;\n",
              "      div.appendChild(label);\n",
              "      const progress = document.createElement('progress');\n",
              "      progress.max = size;\n",
              "      div.appendChild(progress);\n",
              "      document.body.appendChild(div);\n",
              "\n",
              "      const buffers = [];\n",
              "      let downloaded = 0;\n",
              "\n",
              "      const channel = await google.colab.kernel.comms.open(id);\n",
              "      // Send a message to notify the kernel that we're ready.\n",
              "      channel.send({})\n",
              "\n",
              "      for await (const message of channel.messages) {\n",
              "        // Send a message to notify the kernel that we're ready.\n",
              "        channel.send({})\n",
              "        if (message.buffers) {\n",
              "          for (const buffer of message.buffers) {\n",
              "            buffers.push(buffer);\n",
              "            downloaded += buffer.byteLength;\n",
              "            progress.value = downloaded;\n",
              "          }\n",
              "        }\n",
              "      }\n",
              "      const blob = new Blob(buffers, {type: 'application/binary'});\n",
              "      const a = document.createElement('a');\n",
              "      a.href = window.URL.createObjectURL(blob);\n",
              "      a.download = filename;\n",
              "      div.appendChild(a);\n",
              "      a.click();\n",
              "      div.remove();\n",
              "    }\n",
              "  "
            ],
            "text/plain": [
              "<IPython.core.display.Javascript object>"
            ]
          },
          "metadata": {
            "tags": []
          }
        },
        {
          "output_type": "display_data",
          "data": {
            "application/javascript": [
              "download(\"download_1f284ff9-254a-44da-9b9d-92d750ada769\", \"Part_Occupancy.csv\", 1083)"
            ],
            "text/plain": [
              "<IPython.core.display.Javascript object>"
            ]
          },
          "metadata": {
            "tags": []
          }
        },
        {
          "output_type": "display_data",
          "data": {
            "application/javascript": [
              "\n",
              "    async function download(id, filename, size) {\n",
              "      if (!google.colab.kernel.accessAllowed) {\n",
              "        return;\n",
              "      }\n",
              "      const div = document.createElement('div');\n",
              "      const label = document.createElement('label');\n",
              "      label.textContent = `Downloading \"${filename}\": `;\n",
              "      div.appendChild(label);\n",
              "      const progress = document.createElement('progress');\n",
              "      progress.max = size;\n",
              "      div.appendChild(progress);\n",
              "      document.body.appendChild(div);\n",
              "\n",
              "      const buffers = [];\n",
              "      let downloaded = 0;\n",
              "\n",
              "      const channel = await google.colab.kernel.comms.open(id);\n",
              "      // Send a message to notify the kernel that we're ready.\n",
              "      channel.send({})\n",
              "\n",
              "      for await (const message of channel.messages) {\n",
              "        // Send a message to notify the kernel that we're ready.\n",
              "        channel.send({})\n",
              "        if (message.buffers) {\n",
              "          for (const buffer of message.buffers) {\n",
              "            buffers.push(buffer);\n",
              "            downloaded += buffer.byteLength;\n",
              "            progress.value = downloaded;\n",
              "          }\n",
              "        }\n",
              "      }\n",
              "      const blob = new Blob(buffers, {type: 'application/binary'});\n",
              "      const a = document.createElement('a');\n",
              "      a.href = window.URL.createObjectURL(blob);\n",
              "      a.download = filename;\n",
              "      div.appendChild(a);\n",
              "      a.click();\n",
              "      div.remove();\n",
              "    }\n",
              "  "
            ],
            "text/plain": [
              "<IPython.core.display.Javascript object>"
            ]
          },
          "metadata": {
            "tags": []
          }
        },
        {
          "output_type": "display_data",
          "data": {
            "application/javascript": [
              "download(\"download_34b4acd4-e92e-45b7-86b6-68c1d7b787bb\", \"Plinth_Permission.csv\", 11230)"
            ],
            "text/plain": [
              "<IPython.core.display.Javascript object>"
            ]
          },
          "metadata": {
            "tags": []
          }
        },
        {
          "output_type": "display_data",
          "data": {
            "application/javascript": [
              "\n",
              "    async function download(id, filename, size) {\n",
              "      if (!google.colab.kernel.accessAllowed) {\n",
              "        return;\n",
              "      }\n",
              "      const div = document.createElement('div');\n",
              "      const label = document.createElement('label');\n",
              "      label.textContent = `Downloading \"${filename}\": `;\n",
              "      div.appendChild(label);\n",
              "      const progress = document.createElement('progress');\n",
              "      progress.max = size;\n",
              "      div.appendChild(progress);\n",
              "      document.body.appendChild(div);\n",
              "\n",
              "      const buffers = [];\n",
              "      let downloaded = 0;\n",
              "\n",
              "      const channel = await google.colab.kernel.comms.open(id);\n",
              "      // Send a message to notify the kernel that we're ready.\n",
              "      channel.send({})\n",
              "\n",
              "      for await (const message of channel.messages) {\n",
              "        // Send a message to notify the kernel that we're ready.\n",
              "        channel.send({})\n",
              "        if (message.buffers) {\n",
              "          for (const buffer of message.buffers) {\n",
              "            buffers.push(buffer);\n",
              "            downloaded += buffer.byteLength;\n",
              "            progress.value = downloaded;\n",
              "          }\n",
              "        }\n",
              "      }\n",
              "      const blob = new Blob(buffers, {type: 'application/binary'});\n",
              "      const a = document.createElement('a');\n",
              "      a.href = window.URL.createObjectURL(blob);\n",
              "      a.download = filename;\n",
              "      div.appendChild(a);\n",
              "      a.click();\n",
              "      div.remove();\n",
              "    }\n",
              "  "
            ],
            "text/plain": [
              "<IPython.core.display.Javascript object>"
            ]
          },
          "metadata": {
            "tags": []
          }
        },
        {
          "output_type": "display_data",
          "data": {
            "application/javascript": [
              "download(\"download_4900edaa-f207-4ea6-8dd2-ba9809fb4717\", \"Renewal_Building_Permission.csv\", 768)"
            ],
            "text/plain": [
              "<IPython.core.display.Javascript object>"
            ]
          },
          "metadata": {
            "tags": []
          }
        },
        {
          "output_type": "display_data",
          "data": {
            "application/javascript": [
              "\n",
              "    async function download(id, filename, size) {\n",
              "      if (!google.colab.kernel.accessAllowed) {\n",
              "        return;\n",
              "      }\n",
              "      const div = document.createElement('div');\n",
              "      const label = document.createElement('label');\n",
              "      label.textContent = `Downloading \"${filename}\": `;\n",
              "      div.appendChild(label);\n",
              "      const progress = document.createElement('progress');\n",
              "      progress.max = size;\n",
              "      div.appendChild(progress);\n",
              "      document.body.appendChild(div);\n",
              "\n",
              "      const buffers = [];\n",
              "      let downloaded = 0;\n",
              "\n",
              "      const channel = await google.colab.kernel.comms.open(id);\n",
              "      // Send a message to notify the kernel that we're ready.\n",
              "      channel.send({})\n",
              "\n",
              "      for await (const message of channel.messages) {\n",
              "        // Send a message to notify the kernel that we're ready.\n",
              "        channel.send({})\n",
              "        if (message.buffers) {\n",
              "          for (const buffer of message.buffers) {\n",
              "            buffers.push(buffer);\n",
              "            downloaded += buffer.byteLength;\n",
              "            progress.value = downloaded;\n",
              "          }\n",
              "        }\n",
              "      }\n",
              "      const blob = new Blob(buffers, {type: 'application/binary'});\n",
              "      const a = document.createElement('a');\n",
              "      a.href = window.URL.createObjectURL(blob);\n",
              "      a.download = filename;\n",
              "      div.appendChild(a);\n",
              "      a.click();\n",
              "      div.remove();\n",
              "    }\n",
              "  "
            ],
            "text/plain": [
              "<IPython.core.display.Javascript object>"
            ]
          },
          "metadata": {
            "tags": []
          }
        },
        {
          "output_type": "display_data",
          "data": {
            "application/javascript": [
              "download(\"download_2080b635-be18-4936-b5af-97bd1b1a64c0\", \"Revise_Building_Permission.csv\", 9126)"
            ],
            "text/plain": [
              "<IPython.core.display.Javascript object>"
            ]
          },
          "metadata": {
            "tags": []
          }
        },
        {
          "output_type": "display_data",
          "data": {
            "application/javascript": [
              "\n",
              "    async function download(id, filename, size) {\n",
              "      if (!google.colab.kernel.accessAllowed) {\n",
              "        return;\n",
              "      }\n",
              "      const div = document.createElement('div');\n",
              "      const label = document.createElement('label');\n",
              "      label.textContent = `Downloading \"${filename}\": `;\n",
              "      div.appendChild(label);\n",
              "      const progress = document.createElement('progress');\n",
              "      progress.max = size;\n",
              "      div.appendChild(progress);\n",
              "      document.body.appendChild(div);\n",
              "\n",
              "      const buffers = [];\n",
              "      let downloaded = 0;\n",
              "\n",
              "      const channel = await google.colab.kernel.comms.open(id);\n",
              "      // Send a message to notify the kernel that we're ready.\n",
              "      channel.send({})\n",
              "\n",
              "      for await (const message of channel.messages) {\n",
              "        // Send a message to notify the kernel that we're ready.\n",
              "        channel.send({})\n",
              "        if (message.buffers) {\n",
              "          for (const buffer of message.buffers) {\n",
              "            buffers.push(buffer);\n",
              "            downloaded += buffer.byteLength;\n",
              "            progress.value = downloaded;\n",
              "          }\n",
              "        }\n",
              "      }\n",
              "      const blob = new Blob(buffers, {type: 'application/binary'});\n",
              "      const a = document.createElement('a');\n",
              "      a.href = window.URL.createObjectURL(blob);\n",
              "      a.download = filename;\n",
              "      div.appendChild(a);\n",
              "      a.click();\n",
              "      div.remove();\n",
              "    }\n",
              "  "
            ],
            "text/plain": [
              "<IPython.core.display.Javascript object>"
            ]
          },
          "metadata": {
            "tags": []
          }
        },
        {
          "output_type": "display_data",
          "data": {
            "application/javascript": [
              "download(\"download_4ed9b674-3a9a-4c74-8138-934bfce48f45\", \"Technical_Person_Registration.csv\", 29950)"
            ],
            "text/plain": [
              "<IPython.core.display.Javascript object>"
            ]
          },
          "metadata": {
            "tags": []
          }
        }
      ]
    },
    {
      "cell_type": "code",
      "metadata": {
        "id": "-PV9giMNBDA6",
        "colab_type": "code",
        "colab": {}
      },
      "source": [
        ""
      ],
      "execution_count": null,
      "outputs": []
    }
  ]
}